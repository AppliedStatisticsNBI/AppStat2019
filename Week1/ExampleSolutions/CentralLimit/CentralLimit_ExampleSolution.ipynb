{
 "cells": [
  {
   "cell_type": "markdown",
   "metadata": {},
   "source": [
    "# Central Limit Theorem (CLT)\n",
    "\n",
    "### Authors: \n",
    "- Christian Michelsen (Niels Bohr Institute)\n",
    "- Troels C. Petersen (Niels Bohr Institute)\n",
    "\n",
    "### Date:    \n",
    "- 11-11-2019 (latest update)\n",
    "\n",
    "***\n",
    "\n",
    "The aim of this notebook is to illustrate the Central Limit Theorem (CLT) through concrete examples.\n",
    "\n",
    "When you add random numbers from different distributions, but with similar variance (or standard deviation), together and plot the distribution of these sums, you end up with a Gaussian distribution, as dictated by the CLT. \n",
    "The example also illustrates how widths (and therefore uncertainties) are added in quadrature, as one has to divide the sum by the square root of the number of random numbers that went into the sum in order to get a Gaussian of unit width (when using random numbers of unit width, i.e. RMS $= \\sigma = 1$).\n",
    "\n",
    "For more information on the Central Limit Theorem, see:\n",
    "- **R. Barlow**: page 49 (and page 45 for Uniform distribution)\n",
    "- **G. Cowan**: page 33\n",
    "- __[Wikipedia: \"Central limit theorem\"](http://en.wikipedia.org/wiki/Central_limit_theorem)__\n",
    "***\n",
    "\n",
    "First, we import the modules we want to use:\n"
   ]
  },
  {
   "cell_type": "code",
   "execution_count": 1,
   "metadata": {},
   "outputs": [],
   "source": [
    "import numpy as np                                     # Matlab like syntax for linear algebra and functions\n",
    "import matplotlib.pyplot as plt                        # Plots and figures like you know them from Matlab\n",
    "import seaborn as sns                                  # Make the plots nicer to look at\n",
    "from iminuit import Minuit                             # The actual fitting tool, better than scipy's\n",
    "import sys                                             # Modules to see files and folders in directories"
   ]
  },
  {
   "cell_type": "markdown",
   "metadata": {},
   "source": [
    "Here we set the random seed for the random number generator (RNG). This ensures reproducability (the same results every time the notebook is restarted). "
   ]
  },
  {
   "cell_type": "code",
   "execution_count": 2,
   "metadata": {},
   "outputs": [],
   "source": [
    "r = np.random                         # Random generator\n",
    "r.seed(42)                            # Set a random seed (but a fixed one - more on that later.)"
   ]
  },
  {
   "cell_type": "markdown",
   "metadata": {},
   "source": [
    "And here we set the parameters for the experiement. We are going to play around with these more later on. "
   ]
  },
  {
   "cell_type": "code",
   "execution_count": 3,
   "metadata": {},
   "outputs": [],
   "source": [
    "N_experiments = 100000               # Number of sums produced\n",
    "N_uniform     = 10                   # Number of uniform numbers used in sum\n",
    "N_exponential = 0                    # Number of exponential numbers used in sum\n",
    "N_cauchy      = 0                    # Number of cauchy numbers used in sum"
   ]
  },
  {
   "cell_type": "markdown",
   "metadata": {},
   "source": [
    "And finally we set up some global constants, like $\\pi$, and the bool flags about the program:"
   ]
  },
  {
   "cell_type": "code",
   "execution_count": 4,
   "metadata": {
    "lines_to_next_cell": 2
   },
   "outputs": [],
   "source": [
    "pi = 3.14159265358979323846264338328  # Selfexplanatory!!!\n",
    "pi = np.pi                            # Another way of doing it - surely better!\n",
    "\n",
    "verbose = True                        # Print some numbers or not?\n",
    "N_verbose = 10                        # If so, how many?\n",
    "save_plots = False                    # Save the plots produced to file(s)?"
   ]
  },
  {
   "cell_type": "markdown",
   "metadata": {
    "lines_to_next_cell": 2
   },
   "source": [
    "## Initial functions\n",
    "We load the external functions from the `AppStat2018/External_Functions` directory. The first line adds the relevant path to the places it will go look for functions, and the second line imports the function wanted. If you get an error here, check that you have copied \"External Functions\" to your directory, and that you refer to the correct path."
   ]
  },
  {
   "cell_type": "code",
   "execution_count": 5,
   "metadata": {},
   "outputs": [],
   "source": [
    "sys.path.append('../../../External_Functions')\n",
    "from ExternalFunctions import nice_string_output, add_text_to_ax   # Useful functions to print fit results on figure"
   ]
  },
  {
   "cell_type": "markdown",
   "metadata": {},
   "source": [
    "## Loop over process:\n",
    "\n",
    "Having loaded everything that we need, we can start the actual program. We start out by initializing a counter to count how many of the produced sums that fall outside some range ($\\pm 3\\sigma$) and some zero-filled numpy arrays:"
   ]
  },
  {
   "cell_type": "code",
   "execution_count": 6,
   "metadata": {},
   "outputs": [],
   "source": [
    "N3_sigma = 0\n",
    "N35_sigma = 0\n",
    "N4_sigma = 0\n",
    "\n",
    "x_uniform = np.zeros((N_uniform, N_experiments))\n",
    "x_exponential = np.zeros((N_exponential, N_experiments))\n",
    "x_cauchy = np.zeros((N_cauchy, N_experiments))\n",
    "x_sum = np.zeros((N_experiments))"
   ]
  },
  {
   "cell_type": "markdown",
   "metadata": {},
   "source": [
    "### Note on code:\n",
    "\n",
    "The loops are here written out explicitly, in order to assure that you understand what is going on in them. Commented out below is the much shorter and faster Python version of the code, which you should make yourself familiar with immediately (yes, right now!), and use in the future. "
   ]
  },
  {
   "cell_type": "code",
   "execution_count": 7,
   "metadata": {},
   "outputs": [
    {
     "name": "stdout",
     "output_type": "stream",
     "text": [
      "   Uniform:     -0.4346\n",
      "   Uniform:      1.5613\n",
      "   Uniform:      0.8037\n",
      "   Uniform:      0.3418\n",
      "   Uniform:     -1.1916\n",
      "   Uniform:     -1.1917\n",
      "   Uniform:     -1.5308\n",
      "   Uniform:      1.2685\n",
      "   Uniform:      0.3503\n",
      "   Uniform:      0.7208\n",
      "At iexp :  500\n",
      "At iexp :  1000\n",
      "At iexp :  1500\n",
      "At iexp :  2000\n",
      "At iexp :  2500\n",
      "At iexp :  3000\n",
      "At iexp :  3500\n",
      "At iexp :  4000\n",
      "At iexp :  4500\n",
      "At iexp :  5000\n",
      "At iexp :  5500\n",
      "At iexp :  6000\n",
      "At iexp :  6500\n",
      "At iexp :  7000\n",
      "At iexp :  7500\n",
      "At iexp :  8000\n",
      "At iexp :  8500\n",
      "At iexp :  9000\n",
      "At iexp :  9500\n",
      "At iexp :  10000\n",
      "At iexp :  10500\n",
      "At iexp :  11000\n",
      "At iexp :  11500\n",
      "At iexp :  12000\n",
      "At iexp :  12500\n",
      "At iexp :  13000\n",
      "At iexp :  13500\n",
      "At iexp :  14000\n",
      "At iexp :  14500\n",
      "At iexp :  15000\n",
      "At iexp :  15500\n",
      "At iexp :  16000\n",
      "At iexp :  16500\n",
      "At iexp :  17000\n",
      "At iexp :  17500\n",
      "At iexp :  18000\n",
      "At iexp :  18500\n",
      "At iexp :  19000\n",
      "At iexp :  19500\n",
      "At iexp :  20000\n",
      "At iexp :  20500\n",
      "At iexp :  21000\n",
      "At iexp :  21500\n",
      "At iexp :  22000\n",
      "At iexp :  22500\n",
      "At iexp :  23000\n",
      "At iexp :  23500\n",
      "At iexp :  24000\n",
      "At iexp :  24500\n",
      "At iexp :  25000\n",
      "At iexp :  25500\n",
      "At iexp :  26000\n",
      "At iexp :  26500\n",
      "At iexp :  27000\n",
      "At iexp :  27500\n",
      "At iexp :  28000\n",
      "At iexp :  28500\n",
      "At iexp :  29000\n",
      "At iexp :  29500\n",
      "At iexp :  30000\n",
      "At iexp :  30500\n",
      "At iexp :  31000\n",
      "At iexp :  31500\n",
      "At iexp :  32000\n",
      "At iexp :  32500\n",
      "At iexp :  33000\n",
      "At iexp :  33500\n",
      "At iexp :  34000\n",
      "At iexp :  34500\n",
      "At iexp :  35000\n",
      "At iexp :  35500\n",
      "At iexp :  36000\n",
      "At iexp :  36500\n",
      "At iexp :  37000\n",
      "At iexp :  37500\n",
      "At iexp :  38000\n",
      "At iexp :  38500\n",
      "At iexp :  39000\n",
      "At iexp :  39500\n",
      "At iexp :  40000\n",
      "At iexp :  40500\n",
      "At iexp :  41000\n",
      "At iexp :  41500\n",
      "At iexp :  42000\n",
      "At iexp :  42500\n",
      "At iexp :  43000\n",
      "At iexp :  43500\n",
      "At iexp :  44000\n",
      "At iexp :  44500\n",
      "At iexp :  45000\n",
      "At iexp :  45500\n",
      "At iexp :  46000\n",
      "At iexp :  46500\n",
      "At iexp :  47000\n",
      "At iexp :  47500\n",
      "At iexp :  48000\n",
      "At iexp :  48500\n",
      "At iexp :  49000\n",
      "At iexp :  49500\n",
      "At iexp :  50000\n",
      "At iexp :  50500\n",
      "At iexp :  51000\n",
      "At iexp :  51500\n",
      "At iexp :  52000\n",
      "At iexp :  52500\n",
      "At iexp :  53000\n",
      "At iexp :  53500\n",
      "At iexp :  54000\n",
      "At iexp :  54500\n",
      "At iexp :  55000\n",
      "At iexp :  55500\n",
      "At iexp :  56000\n",
      "At iexp :  56500\n",
      "At iexp :  57000\n",
      "At iexp :  57500\n",
      "At iexp :  58000\n",
      "At iexp :  58500\n",
      "At iexp :  59000\n",
      "At iexp :  59500\n",
      "At iexp :  60000\n",
      "At iexp :  60500\n",
      "At iexp :  61000\n",
      "At iexp :  61500\n",
      "At iexp :  62000\n",
      "At iexp :  62500\n",
      "At iexp :  63000\n",
      "At iexp :  63500\n",
      "At iexp :  64000\n",
      "At iexp :  64500\n",
      "At iexp :  65000\n",
      "At iexp :  65500\n",
      "At iexp :  66000\n",
      "At iexp :  66500\n",
      "At iexp :  67000\n",
      "At iexp :  67500\n",
      "At iexp :  68000\n",
      "At iexp :  68500\n",
      "At iexp :  69000\n",
      "At iexp :  69500\n",
      "At iexp :  70000\n",
      "At iexp :  70500\n",
      "At iexp :  71000\n",
      "At iexp :  71500\n",
      "At iexp :  72000\n",
      "At iexp :  72500\n",
      "At iexp :  73000\n",
      "At iexp :  73500\n",
      "At iexp :  74000\n",
      "At iexp :  74500\n",
      "At iexp :  75000\n",
      "At iexp :  75500\n",
      "At iexp :  76000\n",
      "At iexp :  76500\n",
      "At iexp :  77000\n",
      "At iexp :  77500\n",
      "At iexp :  78000\n",
      "At iexp :  78500\n",
      "At iexp :  79000\n",
      "At iexp :  79500\n",
      "At iexp :  80000\n",
      "At iexp :  80500\n",
      "At iexp :  81000\n",
      "At iexp :  81500\n",
      "At iexp :  82000\n",
      "At iexp :  82500\n",
      "At iexp :  83000\n",
      "At iexp :  83500\n",
      "At iexp :  84000\n",
      "At iexp :  84500\n",
      "At iexp :  85000\n",
      "At iexp :  85500\n",
      "At iexp :  86000\n",
      "At iexp :  86500\n",
      "At iexp :  87000\n",
      "At iexp :  87500\n",
      "At iexp :  88000\n",
      "At iexp :  88500\n",
      "At iexp :  89000\n",
      "At iexp :  89500\n",
      "At iexp :  90000\n",
      "At iexp :  90500\n",
      "At iexp :  91000\n",
      "At iexp :  91500\n",
      "At iexp :  92000\n",
      "At iexp :  92500\n",
      "At iexp :  93000\n",
      "At iexp :  93500\n",
      "At iexp :  94000\n",
      "At iexp :  94500\n",
      "At iexp :  95000\n",
      "At iexp :  95500\n",
      "At iexp :  96000\n",
      "At iexp :  96500\n",
      "At iexp :  97000\n",
      "At iexp :  97500\n",
      "At iexp :  98000\n",
      "At iexp :  98500\n",
      "At iexp :  99000\n",
      "At iexp :  99500\n",
      "At iexp :  100000\n"
     ]
    }
   ],
   "source": [
    "for iexp in range(N_experiments): \n",
    "\n",
    "    if ((iexp+1) % 500 == 0): \n",
    "        print(\"At iexp : \", iexp+1)                       # Show progress!\n",
    "    sum_value = 0.0                                       # sum_value is the number we are going to add random numbers to!\n",
    "                                                          # According to the CLT, it should be Gaussianly distributed.\n",
    " \n",
    "    # Generating uniform numbers (with mean 0, and RMS of 1):\n",
    "    for i in range(N_uniform): \n",
    "        x = np.sqrt(12.0) * (r.uniform() - 0.5)           # Uniform between +-sqrt(3). Why? Possibly see references above!\n",
    "        sum_value += x\n",
    "        x_uniform[i, iexp] = x\n",
    "        if (verbose and iexp == 0 and i < N_verbose):\n",
    "            print(f\"   Uniform:     {x:7.4f}\")\n",
    "    \n",
    "    # Alternative Numpy way of doing the above loop (however, without the printing)\n",
    "    # x_uniform[:, iexp] = np.random.uniform(-0.5, 0.5, size=N_uniform) * np.sqrt(12)   \n",
    "    # sum_value += x_uniform[:, iexp].sum()\n",
    "    \n",
    "\n",
    "    # Generating exponential numbers (with mean 0, and RMS of 1):\n",
    "    for i in range(N_exponential): \n",
    "        x = r.exponential() - 1.0                       # Exponential starting at -1. Why?\n",
    "        # x = -np.log(r.uniform()) - 1.0                # Alternative way to produce x exponentially (we'll get to why this works!).\n",
    "        sum_value += x\n",
    "        \n",
    "        x_exponential[i, iexp] = x\n",
    "        if (verbose and iexp == 0 and i < N_verbose) : \n",
    "            print(f\"   Exponential: {x:7.4f}\")\n",
    "    \n",
    "    # Alternative Numpy way of doing the above loop\n",
    "    # x_exponential[:, iexp] = np.random.exponential(size=N_exponential) - 1\n",
    "    # sum_value += x_exponential[:, iexp].sum()\n",
    "\n",
    "    # Generating numbers according to a Cauchy distribution (1 / (1 + x^2)):\n",
    "    for i in range(N_cauchy): \n",
    "        x = 0.5*np.tan(pi * (r.uniform() - 0.5))              # Cauchy with mean 0... now produced in a \"complicated\" way!\n",
    "        # x = 0.5*r.standard_cauchy()                         # Alternative way to produce x according to Cauchy PDF.\n",
    "        sum_value += x\n",
    "        x_cauchy[i, iexp] = x\n",
    "        if (verbose and iexp == 0 and i < N_verbose):\n",
    "            print(f\"   Cauchy:      {x:7.4f}\")\n",
    "            \n",
    "    # Alternative Numpy way of doing the above loop\n",
    "    # x_cauchy[:, iexp] = 0.5*np.random.standard_cauchy(size=N_cauchy)\n",
    "    # sum_value += x_cauchy[:, iexp].sum()\n",
    "\n",
    "    N_total = N_uniform + N_exponential + N_cauchy\n",
    "    sum_value = sum_value / np.sqrt(N_total)     # Ask yourself, why I divide by sqrt(N)?\n",
    "    x_sum[iexp] = sum_value\n",
    "    if not (-3.0 < sum_value < 3.0) : N3_sigma += 1\n",
    "    if not (-3.5 < sum_value < 3.5) : N35_sigma += 1\n",
    "    if not (-4.0 < sum_value < 4.0) : N4_sigma += 1"
   ]
  },
  {
   "cell_type": "markdown",
   "metadata": {},
   "source": [
    "Now we have created three 2-dimensional arrays of shape (N_pdf, N_experiments), e.g. (10, 1000). We now flatten the arrays to get 1D arrays:"
   ]
  },
  {
   "cell_type": "code",
   "execution_count": 8,
   "metadata": {},
   "outputs": [],
   "source": [
    "x_uniform = x_uniform.flatten()\n",
    "x_exponential = x_exponential.flatten()\n",
    "x_cauchy = x_cauchy.flatten()"
   ]
  },
  {
   "cell_type": "markdown",
   "metadata": {},
   "source": [
    "## Draw the input distributions:\n",
    "\n",
    "It is always important to visualize out data to see if our code produced the expected results, find outliers and just generally get a better understand of it.\n",
    "\n",
    "We first define the number of bins and the ranges of the different distributions. Note that it is important to think about this - to many/few bins or poor choice of range may ruin the plot, and one should try to get a \"regular\" bin widths:"
   ]
  },
  {
   "cell_type": "code",
   "execution_count": 9,
   "metadata": {},
   "outputs": [],
   "source": [
    "N_bins = 100\n",
    "x_ranges = [(-2.5, 2.5), (-1.5, 8.5), (-5.0, 5.0)]"
   ]
  },
  {
   "cell_type": "markdown",
   "metadata": {},
   "source": [
    "We now loop over our three distributions and plot them (if they are not empty). In each subplot we plot histograms of the distributions with the given number of bins and ranges as defined above and with the mean, standard deviation and truncated standard deviation for each distribution. "
   ]
  },
  {
   "cell_type": "code",
   "execution_count": 10,
   "metadata": {
    "lines_to_next_cell": 2
   },
   "outputs": [
    {
     "data": {
      "image/png": "[encoded data removed]",
      "text/plain": [
       "<Figure size 864x432 with 3 Axes>"
      ]
     },
     "metadata": {
      "needs_background": "light"
     },
     "output_type": "display_data"
    }
   ],
   "source": [
    "fig, ax = plt.subplots(nrows=1, ncols=3, figsize=(12,6))\n",
    "\n",
    "x_all = [x_uniform, x_exponential, x_cauchy]\n",
    "titles = ['Uniform', 'Exponential', 'Cauchy']\n",
    "\n",
    "for ax_i, x, title, x_range in zip(ax, x_all, titles, x_ranges):\n",
    "    \n",
    "    if len(x) > 0:\n",
    "        \n",
    "        ax_i.hist(x, bins=N_bins, range=x_range, histtype='step')\n",
    "        ymax = ax_i.get_ylim()[1]*1.2\n",
    "        ax_i.set(title=title, ylim=(0, ymax), xlim=x_range)\n",
    "\n",
    "        d = {'Entries': len(x),\n",
    "             'Mean': x.mean(),\n",
    "             'Std': x.std(ddof=1),\n",
    "             'Std_truncated': x[(x_range[0]<x) & (x<x_range[1])].std(ddof=1),\n",
    "        }\n",
    "\n",
    "        text = nice_string_output(d, extra_spacing=2, decimals=3)\n",
    "        add_text_to_ax(0.1, 0.97, text, ax_i, fontsize=12)\n",
    "\n",
    "fig.tight_layout()\n",
    "\n",
    "if save_plots:\n",
    "    fig.savefig('Plot_CentralLimit_Input.pdf', dpi=600)"
   ]
  },
  {
   "cell_type": "markdown",
   "metadata": {
    "lines_to_next_cell": 2
   },
   "source": [
    "## Outside $\\pm 3 \\sigma$\n",
    "\n",
    "Below we write how many of the experiments had a result outside the range [-3,3], i.e. beyond $\\pm 3 \\sigma$:"
   ]
  },
  {
   "cell_type": "code",
   "execution_count": 11,
   "metadata": {},
   "outputs": [
    {
     "name": "stdout",
     "output_type": "stream",
     "text": [
      "\n",
      "Number of experiments beyond 3 sigma / total:  191 / 100000 = 0.001910\n",
      "\n",
      "Number of experiments beyond 3.5 sigma / total:   16 / 100000 = 0.000160\n",
      "\n",
      "Number of experiments beyond 4 sigma / total:    2 / 100000 = 0.000020\n"
     ]
    }
   ],
   "source": [
    "print(f\"\\nNumber of experiments beyond 3 sigma / total: {N3_sigma:4d} / {N_experiments:d} = {N3_sigma/N_experiments:8.6f}\")\n",
    "print(f\"\\nNumber of experiments beyond 3.5 sigma / total: {N35_sigma:4d} / {N_experiments:d} = {N35_sigma/N_experiments:8.6f}\")\n",
    "print(f\"\\nNumber of experiments beyond 4 sigma / total: {N4_sigma:4d} / {N_experiments:d} = {N4_sigma/N_experiments:8.6f}\")"
   ]
  },
  {
   "cell_type": "markdown",
   "metadata": {},
   "source": [
    "- __Question__: *Do the numbers above make sense? What did you expect it to be?*\n",
    "\n",
    "Example answer:\n",
    "One should from a true Gaussian expect 99.700% of events to be inside 3 sigma, thus with (only) 1000 trials, the answer should be around 3. However, this has a large uncertainty (roughly sqrt(3), as it is Poisson, which we will talk much more about next week), there is no certainty, that you get that number.\n",
    "\n",
    "Rather, one should do 1000000 trials, and see if the number is around 3000 (look up the more precise fraction expected). However, if only combining a few uniform numbers (and possibly some exponential ones), then the resulting distribution might not be truly Gaussian, and one could be significantly off.\n",
    "\n",
    "\n",
    "***\n",
    "## Draw output plots with corresponding fits to the screen:\n",
    "\n",
    "Having visualized the individual distributions above, we now visualize the sum of the different distributions, `x_sum`. We first plot a histogram of it in the range from `xmin` to `xmax`:"
   ]
  },
  {
   "cell_type": "code",
   "execution_count": 12,
   "metadata": {
    "lines_to_next_cell": 2
   },
   "outputs": [
    {
     "data": {
      "image/png": "[encoded data removed]",
      "text/plain": [
       "<Figure size 864x432 with 1 Axes>"
      ]
     },
     "metadata": {
      "needs_background": "light"
     },
     "output_type": "display_data"
    }
   ],
   "source": [
    "xmin, xmax = -6,6\n",
    "\n",
    "fig2, ax2 = plt.subplots(figsize=(12, 6)) \n",
    "hist2 = ax2.hist(x_sum, bins=N_bins, range=(xmin, xmax), histtype='step')\n",
    "ax2.set(xlabel='Sum', ylabel='Frequency', title='Histogram of x_sum (the sum of the distributions)');"
   ]
  },
  {
   "cell_type": "markdown",
   "metadata": {},
   "source": [
    "Now we overlay the plot with a unit Gaussian (i.e. not fitted to the data), to see if the resulting sums actually distribute themselves Gaussianly:"
   ]
  },
  {
   "cell_type": "code",
   "execution_count": 13,
   "metadata": {},
   "outputs": [],
   "source": [
    "# Define your PDF / model \n",
    "def gauss_pdf(x, mu, sigma):\n",
    "    \"\"\"Normalized Gaussian\"\"\"\n",
    "    return 1 / np.sqrt(2 * np.pi) / sigma * np.exp(-(x - mu) ** 2 / 2. / sigma ** 2)\n",
    "\n",
    "def gauss_extended(x, N, mu, sigma):\n",
    "    \"\"\"Non-normalized Gaussian\"\"\"\n",
    "    return N * gauss_pdf(x, mu, sigma)\n",
    "# Could also be written as:\n",
    "#gauss_extended = Extended(gauss_pdf)"
   ]
  },
  {
   "cell_type": "code",
   "execution_count": 14,
   "metadata": {
    "lines_to_next_cell": 2
   },
   "outputs": [
    {
     "data": {
      "image/png": "[encoded data removed]",
      "text/plain": [
       "<Figure size 864x432 with 1 Axes>"
      ]
     },
     "execution_count": 14,
     "metadata": {},
     "output_type": "execute_result"
    }
   ],
   "source": [
    "N_scale = (xmax-xmin) / N_bins            # The scale factor between histogram and the fit. Takes e.g. bin width into account.\n",
    "x_gauss = np.linspace(xmin, xmax, 1000)   # Create the x-axis for the plot of the fitted function\n",
    "y_gauss = N_scale*gauss_extended(x_gauss, len(x_sum), 0, 1)                   # Unit Gaussian\n",
    "ax2.plot(x_gauss, y_gauss, '-', color='blue', label='Unit Gauss (no fit)') \n",
    "ax2.legend(loc='upper right')\n",
    "fig2.tight_layout()\n",
    "\n",
    "# Note, we refer to the old plot \"ax2\". Had we done another plot in between, \n",
    "# we would not have been able to plot on top of the old figure with the matlab syntax.\n",
    "\n",
    "if save_plots:\n",
    "    fig2.savefig('Histogram.pdf', dpi=600)\n",
    "    \n",
    "fig2        "
   ]
  },
  {
   "cell_type": "markdown",
   "metadata": {},
   "source": [
    "***\n",
    "\n",
    "First make sure that you understand what the Central Limit Theorem (CLT) states! Then, acquaint yourself with the program. Make sure that you read through it, as many\n",
    "of these features will be used onwards. Do you understand why the uniform distribution needs to go from $\\pm \\sqrt 3$ in order to give a distribution with a width of $1$ (i.e. unit) and why you subtract $1$ from the exponential distribution (and how this works at all)?\n",
    "\n",
    "# Questions:\n",
    "\n",
    "1. What is the mean and RMS of the input distributions?\n",
    "\n",
    "Example answer 1:\n",
    "The mean and RMS are 0 and 1, respectively, for both the Uniform and Exponential distributions. However, for the Cauchy the RMS is undefined (the integral does not converge!), and thus the mean is in fact also not defined (even if one from symmetry arguments would say 0).\n",
    "\n",
    "2. Why is there a $\\frac{1}{\\sqrt N}$ at the bottom of cell [7] in the line `sum_value = sum_value / np.sqrt(Ntotal)` (when summing up the various contributions to sum)?\n",
    "    Hint: Assume that I always wanted to compare the distribution of sums with a UNIT Gaussian.\n",
    "\n",
    "Example answer 2:\n",
    "The Central Limit Theorem (CLT) states, that the variances add (i.e. the widths = sigma are added in quadrature), thus the more contributions are added (say Ncontrib), the wider a distribution one would expect, growing as sqrt(Ncontrib). However, as we want to compare to the a UNIT Gaussian, we exactly divide by sqrt(Ncontrib).\n",
    "\n",
    "3. Using a sum of 10 uniform random numbers with mean 0 and width 1, what is the expected \n",
    "    width of the resulting distribution according to CLT? What is the probability of\n",
    "    obtaining a number beyond 3 sigma, i.e. how many numbers did you get beyond 3 sigma?\n",
    "    What would you expect from a true Gaussian distribution?\n",
    "    And what about the same question for 3.5 sigma? And 4.0 sigma?\n",
    "    Put additional counters into the code, to test any effects in the tails (which have little statistics as it is).\n",
    "    Increase the number of experiments run to (much) more than 1000... say 100000 or more.\n",
    "\n",
    "Example answer 3:\n",
    "As it happens, it is in fact not truly Gaussian in the tails, and one finds fewer events in the tails, than should be expected from a true Gaussian (around 1850 compared to 3000, which is NOT statistically compatible!).\n",
    "\n",
    "\n",
    "4. Now try to add 10 exponential (i.e. set `N_exponential=10` and rerun the program). Does that give something Gaussian? What about 1000?\n",
    "    Then try to add 10 cauchy numbers (i.e. set `N_cauchy=10` and rerun the program). Does that give something Gaussian? What about 1000?\n",
    "    If not Gaussian, why do the Cauchy distribution \"ruin\" the Gaussian distribution?\n",
    "    And is this in conflict with the Central Limit Theorem?\n",
    "    \n",
    "Example answer 4:\n",
    "Adding a contribution of 10 exponential numbers makes the resulting distribution visibly asymmetric. Suddenly, the number of cases outside 3 sigma fits better, while at 4 sigma, there are way too many. That is because the relatively few exponential numbers gives a larger tail to the upper/right part of the distribution.\n",
    "\n",
    "Adding any contribution from the Cauchy distribution ruins everything - nothing converges, simply because this distribution does not have a well defined width, and hence any distribution which has a contribution from it also doesn't have a well defined width. This is not in conflict with the CLT, as this only applies for distributions with a well defined width (or variance).\n",
    "\n",
    "\n",
    "### Advanced questions:\n",
    "\n",
    "5. If one used a trunkated mean of 10 Cauchy numbers (throwing away the top and bottom e.g. 10%),\n",
    "    will the truncated mean of 1000 Cauchy numbers then converge to a Gaussian (possibly not with unit width)?\n",
    "\n",
    "6. How few/many uniform random numbers needs to be added, before the probability\n",
    "    for the sum to follow a Gaussian distribution is greater than 1% (on average)\n",
    "    when using 1000 sums (i.e. `N_experiments=1000`)? Here, a $\\chi^2$ fit is needed.\n",
    "   "
   ]
  }
 ],
 "metadata": {
  "executable": "/usr/bin/env python",
  "kernelspec": {
   "display_name": "Python 3",
   "language": "python",
   "name": "python3"
  },
  "language_info": {
   "codemirror_mode": {
    "name": "ipython",
    "version": 3
   },
   "file_extension": ".py",
   "mimetype": "text/x-python",
   "name": "python",
   "nbconvert_exporter": "python",
   "pygments_lexer": "ipython3",
   "version": "3.7.3"
  },
  "main_language": "python"
 },
 "nbformat": 4,
 "nbformat_minor": 2
}
