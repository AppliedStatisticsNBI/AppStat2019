{
 "cells": [
  {
   "cell_type": "code",
   "execution_count": null,
   "metadata": {},
   "outputs": [],
   "source": [
    "# ----------------------------------------------------------------------------------- #\n",
    "#\n",
    "#  Script for reading data for the Applied Statistics problem on \"Gamma Spectrum\".\n",
    "#\n",
    "#  Author: Troels C. Petersen (NBI)\n",
    "#  Email:  petersen@nbi.dk\n",
    "#  Date:   1st of December 2019\n",
    "# ----------------------------------------------------------------------------------- #\n",
    "\n",
    "\n",
    "from array import array\n",
    "import numpy as np\n",
    "\n",
    "# ----------------------------------------------------------------------------------- #\n",
    "# Read data (channel numbers):\n",
    "# ----------------------------------------------------------------------------------- #\n",
    "\n",
    "x = []\n",
    "\n",
    "with open( 'data_GammaSpectrum.txt', 'r' ) as infile :\n",
    "    for line in infile:\n",
    "        line = line.strip().split()\n",
    "        x.append(float(line[0]))\n",
    "\n",
    "        # Print the first 10 numbers as a sanity check:\n",
    "        if (len(x) < 10) :\n",
    "            print(x[-1])\n",
    "\n",
    "x = np.array(x)\n",
    "print(\"The number of entries in the file was: \", len(x))"
   ]
  }
 ],
 "metadata": {
  "kernelspec": {
   "display_name": "Python 3",
   "language": "python",
   "name": "python3"
  },
  "language_info": {
   "codemirror_mode": {
    "name": "ipython",
    "version": 3
   },
   "file_extension": ".py",
   "mimetype": "text/x-python",
   "name": "python",
   "nbconvert_exporter": "python",
   "pygments_lexer": "ipython3",
   "version": "3.7.3"
  }
 },
 "nbformat": 4,
 "nbformat_minor": 2
}
