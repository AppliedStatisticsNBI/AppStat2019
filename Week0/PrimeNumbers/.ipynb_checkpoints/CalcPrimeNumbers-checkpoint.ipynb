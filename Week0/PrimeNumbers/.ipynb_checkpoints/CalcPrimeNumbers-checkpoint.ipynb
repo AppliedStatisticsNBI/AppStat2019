{
 "cells": [
  {
   "cell_type": "code",
   "execution_count": null,
   "metadata": {},
   "outputs": [],
   "source": [
    "\n",
    "# Above statement tells your terminal that the script should be run in \n",
    "# a python enviroment."
   ]
  },
  {
   "cell_type": "markdown",
   "metadata": {},
   "source": [
    "--------------------------------------------------------- #\n",
    " Script calculating all prime numbers up to 10000\n",
    "\n",
    " Author:  Troels C. Petersen (Niels Bohr Institute)\n",
    " Date:    06-10-2015 (originally)\n",
    "--------------------------------------------------------- #"
   ]
  },
  {
   "cell_type": "code",
   "execution_count": null,
   "metadata": {},
   "outputs": [],
   "source": [
    "from __future__ import print_function, division\n",
    "import numpy as np               # Import the numpy library"
   ]
  },
  {
   "cell_type": "code",
   "execution_count": null,
   "metadata": {
    "lines_to_next_cell": 2
   },
   "outputs": [],
   "source": [
    "Nmax = 10000              # Maximum prime number\n",
    "N    = 2                  # Starting value"
   ]
  },
  {
   "cell_type": "markdown",
   "metadata": {},
   "source": [
    "Calculating prime numbers comes down to taking a number (here N),\n",
    "and testing if it is prime by dividing it by all numbers up the\n",
    "the square root of it. If no number divides N (tested using the \n",
    "\"%\" operator, which returns the remainder: 6%3 = 0, 5%2 = 1, etc.),\n",
    "then N is prime!"
   ]
  },
  {
   "cell_type": "markdown",
   "metadata": {},
   "source": [
    "See if you can follow this in python program form below. There \n",
    "are only 9 lines in total! The central part consists of a While-loop,\n",
    "which loops as long as the statement is true.\n",
    "It is true to begin with (N=2, Nmax = 10000), but at some point\n",
    "N will have increased enough to equal Nmax, and the looping stops."
   ]
  },
  {
   "cell_type": "code",
   "execution_count": null,
   "metadata": {},
   "outputs": [],
   "source": [
    "# Create empty list for primes. We dont create a numpy list since we\n",
    "# don't know the size of it before creation:\n",
    "primes = []"
   ]
  },
  {
   "cell_type": "code",
   "execution_count": null,
   "metadata": {},
   "outputs": [],
   "source": [
    "while (N < Nmax):\n",
    "    # print \"Potential Prime number I want to test: \", N\n",
    "    hit = False                # Define a variable \"hit\", with starting value \"False\".\n",
    "\n",
    "    for i in range (2,int(np.sqrt(N))+1) :   # Loop over the possible divisors.\n",
    "        # print \"  I'm testing the first number with the second and get the third: \", N, i, N%i\n",
    "\n",
    "        if (N%i == 0):         # If the remainder of the integer division is 0\n",
    "            hit = True         # hit = \"True\" (i.e. the number being tested had a divisor, and is not a prime)\n",
    "            break              # Skip the rest of the possible divisors.\n",
    "\n",
    "    if (not hit) :             # If no number gave a perfect integer division (i.e. with remainder 0)...\n",
    "        primes.append(N)\n",
    "        print(\"I got a prime\", N)   # ...the it is a prime number. Fill it into the histogram.\n",
    "\n",
    "    N += 1                     # Increase N by one."
   ]
  },
  {
   "cell_type": "code",
   "execution_count": null,
   "metadata": {},
   "outputs": [],
   "source": [
    "# All primes up to Nmax as a numpy array\n",
    "primes = np.array(primes)\n",
    "print()\n",
    "print(\"First 10 primes, \", primes[:10]) # prints the first 10 primes"
   ]
  },
  {
   "cell_type": "code",
   "execution_count": null,
   "metadata": {},
   "outputs": [],
   "source": [
    "# Check that there are no even primes except 2:\n",
    "print(\"  The even prime numbers are listed here: \", primes[(primes % 2) == 0])"
   ]
  },
  {
   "cell_type": "markdown",
   "metadata": {
    "lines_to_next_cell": 2
   },
   "source": [
    "This algorithm gives the prime numbers up to Nmax = 10000!\n",
    "Think it through, and see if you understand it..."
   ]
  }
 ],
 "metadata": {
  "executable": "/usr/bin/env python",
  "kernelspec": {
   "display_name": "Python 3",
   "language": "python",
   "name": "python3"
  },
  "language_info": {
   "codemirror_mode": {
    "name": "ipython",
    "version": 3
   },
   "file_extension": ".py",
   "mimetype": "text/x-python",
   "name": "python",
   "nbconvert_exporter": "python",
   "pygments_lexer": "ipython3",
   "version": "3.6.6"
  },
  "main_language": "python"
 },
 "nbformat": 4,
 "nbformat_minor": 2
}
