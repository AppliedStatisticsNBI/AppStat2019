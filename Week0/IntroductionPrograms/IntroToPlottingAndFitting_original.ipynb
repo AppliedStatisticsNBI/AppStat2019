{
 "cells": [
  {
   "cell_type": "markdown",
   "metadata": {},
   "source": [
    "# Introduction to Plotting and Fitting\n",
    "\n",
    "### Authors: \n",
    "- Christian Michelsen (Niels Bohr Institute)\n",
    "- Troels C. Petersen (Niels Bohr Institute)\n",
    "\n",
    "### Date:    \n",
    "- 13-11-2018 (latest update)\n",
    "\n",
    "***\n",
    "\n",
    "This is an introduction on how to use the Python packages iminuit and probfit to do fitting, and matplotlib to plot the results nicely.\n",
    "\n",
    "***\n",
    "\n",
    "First, we import the modules we want to use:"
   ]
  },
  {
   "cell_type": "code",
   "execution_count": 1,
   "metadata": {},
   "outputs": [
    {
     "ename": "ModuleNotFoundError",
     "evalue": "No module named 'probfit'",
     "output_type": "error",
     "traceback": [
      "\u001b[0;31m---------------------------------------------------------------------------\u001b[0m",
      "\u001b[0;31mModuleNotFoundError\u001b[0m                       Traceback (most recent call last)",
      "\u001b[0;32m<ipython-input-1-56531263e958>\u001b[0m in \u001b[0;36m<module>\u001b[0;34m\u001b[0m\n\u001b[1;32m      3\u001b[0m \u001b[0;32mimport\u001b[0m \u001b[0mseaborn\u001b[0m \u001b[0;32mas\u001b[0m \u001b[0msns\u001b[0m                                  \u001b[0;31m# Make the plots nicer to look at\u001b[0m\u001b[0;34m\u001b[0m\u001b[0;34m\u001b[0m\u001b[0m\n\u001b[1;32m      4\u001b[0m \u001b[0;32mfrom\u001b[0m \u001b[0miminuit\u001b[0m \u001b[0;32mimport\u001b[0m \u001b[0mMinuit\u001b[0m                             \u001b[0;31m# The actual fitting tool, better than scipy's\u001b[0m\u001b[0;34m\u001b[0m\u001b[0;34m\u001b[0m\u001b[0m\n\u001b[0;32m----> 5\u001b[0;31m \u001b[0;32mfrom\u001b[0m \u001b[0mprobfit\u001b[0m \u001b[0;32mimport\u001b[0m \u001b[0mBinnedLH\u001b[0m\u001b[0;34m,\u001b[0m \u001b[0mChi2Regression\u001b[0m\u001b[0;34m,\u001b[0m \u001b[0mExtended\u001b[0m \u001b[0;31m# Helper tool for fitting\u001b[0m\u001b[0;34m\u001b[0m\u001b[0;34m\u001b[0m\u001b[0m\n\u001b[0m\u001b[1;32m      6\u001b[0m \u001b[0;32mimport\u001b[0m \u001b[0msys\u001b[0m                                             \u001b[0;31m# Module to see files and folders in directories\u001b[0m\u001b[0;34m\u001b[0m\u001b[0;34m\u001b[0m\u001b[0m\n\u001b[1;32m      7\u001b[0m \u001b[0;32mfrom\u001b[0m \u001b[0mscipy\u001b[0m \u001b[0;32mimport\u001b[0m \u001b[0mstats\u001b[0m\u001b[0;34m\u001b[0m\u001b[0;34m\u001b[0m\u001b[0m\n",
      "\u001b[0;31mModuleNotFoundError\u001b[0m: No module named 'probfit'"
     ]
    }
   ],
   "source": [
    "import numpy as np                                     # Matlab like syntax for linear algebra and functions\n",
    "import matplotlib.pyplot as plt                        # Plots and figures like you know them from Matlab\n",
    "import seaborn as sns                                  # Make the plots nicer to look at\n",
    "from iminuit import Minuit                             # The actual fitting tool, better than scipy's\n",
    "from probfit import BinnedLH, Chi2Regression# Helper tool for fitting\n",
    "import sys                                             # Module to see files and folders in directories\n",
    "from scipy import stats"
   ]
  },
  {
   "cell_type": "markdown",
   "metadata": {},
   "source": [
    "The above block imports packages written by others. But you may want to include your own code from some external file, which holds your custom/favorite functions. This is done as follows, and refers to the Python file called `ExternalFunctions.py` located in the Folder `External_Functions` right next to `Week0`, `Week1` etc:"
   ]
  },
  {
   "cell_type": "code",
   "execution_count": 2,
   "metadata": {},
   "outputs": [],
   "source": [
    "sys.path.append('../../External_Functions')\n",
    "from ExternalFunctions import nice_string_output, add_text_to_ax # useful functions to print fit results on figure\n",
    "\n",
    "# in case you want to load function from a jupyter notebook from the current working directory, you can use the function below:\n",
    "#from ipynb.fs.full.ExternalFunctions import nice_string_output, add_text_to_ax # useful functions to print fit results on figure"
   ]
  },
  {
   "cell_type": "markdown",
   "metadata": {},
   "source": [
    "Here we set the random seed for the random number generator (RNG). This ensures reproducability (the same results every time the notebook is restarted). "
   ]
  },
  {
   "cell_type": "code",
   "execution_count": 3,
   "metadata": {},
   "outputs": [],
   "source": [
    "r = np.random # Random generator\n",
    "r.seed(42)    # Set a random seed (but a fixed one)"
   ]
  },
  {
   "cell_type": "markdown",
   "metadata": {},
   "source": [
    "We then set some plotting settings (where we take advantage of Seaborn's plotting capabilities):"
   ]
  },
  {
   "cell_type": "code",
   "execution_count": 4,
   "metadata": {},
   "outputs": [],
   "source": [
    "sns.set()\n",
    "sns.set_context(\"paper\", font_scale=1.4)\n",
    "sns.set_style(\"ticks\")"
   ]
  },
  {
   "cell_type": "markdown",
   "metadata": {},
   "source": [
    "Finally we define some global constants that we are going to use throughout the notebook:"
   ]
  },
  {
   "cell_type": "code",
   "execution_count": 5,
   "metadata": {
    "lines_to_next_cell": 2
   },
   "outputs": [],
   "source": [
    "save_plots = False # For now, don't save plots (once you trust your code, switch on)\n",
    "verbose = True     # For now, print a lot of output (once you trust your code, switch off)\n",
    "Nverbose = 10      # But only print a lot for the first 10 random numbers"
   ]
  },
  {
   "cell_type": "markdown",
   "metadata": {},
   "source": [
    "## Create the data:\n",
    "\n",
    "We create some normally distributed data. First we define the number of random points to produce:"
   ]
  },
  {
   "cell_type": "code",
   "execution_count": 6,
   "metadata": {},
   "outputs": [],
   "source": [
    "Npoints = 10000 # Number of random points produced"
   ]
  },
  {
   "cell_type": "markdown",
   "metadata": {},
   "source": [
    "And then we initialize two empty arrays to keep all the points:"
   ]
  },
  {
   "cell_type": "code",
   "execution_count": 7,
   "metadata": {},
   "outputs": [],
   "source": [
    "x_all = np.zeros(Npoints) # create empty arrays to store the numbers in\n",
    "y_all = np.zeros(Npoints)"
   ]
  },
  {
   "cell_type": "markdown",
   "metadata": {},
   "source": [
    "(*Notice that we create an empty array first with a length of `Npoints` instead of appending the individual values to an initial empty list, for computationally speed*).\n",
    "\n",
    "We then loop over all `Npoints` points and fill in a random number (from our RNG).  "
   ]
  },
  {
   "cell_type": "code",
   "execution_count": 8,
   "metadata": {},
   "outputs": [
    {
     "name": "stdout",
     "output_type": "stream",
     "text": [
      "Array value, index 0:   x = -0.103     y =  0.320\n",
      "Array value, index 2:   x =  0.018     y =  2.480\n",
      "Array value, index 4:   x = -0.687     y =  0.196\n",
      "Array value, index 6:   x =  0.763     y =  1.498\n",
      "Array value, index 8:   x = -0.876     y =  1.205\n",
      "Array value, index 10:   x = -0.871     y = -0.105\n",
      "Array value, index 12:   x = -0.306     y = -1.987\n",
      "Array value, index 14:   x = -1.880     y = -0.231\n",
      "Array value, index 16:   x = -1.310     y =  0.909\n",
      "Array value, index 18:   x = -1.226     y = -1.336\n"
     ]
    }
   ],
   "source": [
    "# Loop to get some random values and fill them into the arrays:\n",
    "for iexp in range(Npoints):\n",
    "    \n",
    "    xval = r.normal()*0.8 - 0.5\n",
    "    yval = r.normal()*1.3 + 0.5\n",
    "    \n",
    "    x_all[iexp] = xval\n",
    "    y_all[iexp] = yval\n",
    "\n",
    "    if (verbose and iexp < Nverbose):\n",
    "        print(f\"Array value, index {2*iexp}:   x = {xval:6.3f}     y = {yval:6.3f}\")"
   ]
  },
  {
   "cell_type": "markdown",
   "metadata": {},
   "source": [
    "An alternative - and way easier - way of creating arrays filled with random numbers (as above) is to use numpy directly:"
   ]
  },
  {
   "cell_type": "code",
   "execution_count": 9,
   "metadata": {
    "lines_to_next_cell": 2
   },
   "outputs": [
    {
     "name": "stdout",
     "output_type": "stream",
     "text": [
      "[-0.221371   -0.27334113 -1.24921588 ... -0.90109385 -2.01388546\n",
      " -0.68310737]\n"
     ]
    }
   ],
   "source": [
    "# Numpy-version:\n",
    "x_all = r.normal(loc=-0.5, scale=0.8, size=Npoints)\n",
    "y_all = r.normal(0.5, 1.3, Npoints)\n",
    "\n",
    "print(x_all)"
   ]
  },
  {
   "cell_type": "markdown",
   "metadata": {},
   "source": [
    "Where we have shown that you can use keywords (e.g. `loc=-0.5` to indicate the location of the normal distributuion) in the functions to make it easier to read. Available keywords can be seen running `?r.normal()` in a cell."
   ]
  },
  {
   "cell_type": "code",
   "execution_count": 10,
   "metadata": {},
   "outputs": [],
   "source": [
    "# ?r.normal() # comment this line in"
   ]
  },
  {
   "cell_type": "markdown",
   "metadata": {},
   "source": [
    "## Histogram of data (1D):\n",
    "\n",
    "In the following section, we want to produce two histograms (of normal distributions in this case), and plot them together in a single plot.  \n",
    "This can be done in two ways!  \n",
    "\n",
    "The first method is very MatLab-like, and probably also the simplest, but in the longer run has a few drawbacks, while the second method is more pythonic (i.e. object oriented, OO), and allows for returning to these plots later in the code.\n",
    "\n",
    "First we define the number of bins for the histograms to use along with the minimum and maximum values of x:"
   ]
  },
  {
   "cell_type": "code",
   "execution_count": 11,
   "metadata": {
    "lines_to_next_cell": 2
   },
   "outputs": [],
   "source": [
    "# General input (for both methods):\n",
    "Nbins = 100\n",
    "xmin, xmax = -5, 5"
   ]
  },
  {
   "cell_type": "markdown",
   "metadata": {},
   "source": [
    "#### Method 0 (MatLab-like)\n",
    "\n",
    "The Matlab-like way of making plots is to simply to call `plt.plotmethod_name_here(keywords_here)`. Below we first create an empty figure, then fill it with two histograms and lastly we set the text properties (labels, title and legend):"
   ]
  },
  {
   "cell_type": "code",
   "execution_count": 12,
   "metadata": {},
   "outputs": [
    {
     "data": {
      "image/png": "[encoded data removed]",
      "text/plain": [
       "<Figure size 864x432 with 1 Axes>"
      ]
     },
     "metadata": {},
     "output_type": "display_data"
    }
   ],
   "source": [
    "# create just a single figure and axes\n",
    "plt.figure(figsize=(12, 6)) # figsize is in inches\n",
    "\n",
    "# create a histogram with Nbin anount  of bins in the range from xmin to xmax.\n",
    "# Choose a step-type histogram with a line width of 2 in the color and label chosen.\n",
    "plt.hist(x_all, bins=Nbins, range=(xmin, xmax), histtype='step', linewidth=2, color='red', label='Gaussian ($\\mu$ = -0.5)')\n",
    "plt.hist(y_all, bins=Nbins, range=(xmin, xmax), histtype='step', linewidth=2, color='blue', label='Gaussian ($\\mu$ = +0.5)')\n",
    "\n",
    "plt.xlabel(\"Random numbers\") # the label of the x axis\n",
    "plt.ylabel(\"Frequency\") # the label of the y axis\n",
    "plt.title(\"Distribution of Gaussian numbers\") # the title of the plot\n",
    "plt.legend(loc='best'); # could also be # loc = 'upper right' e.g."
   ]
  },
  {
   "cell_type": "markdown",
   "metadata": {},
   "source": [
    "We end the last line with a semicolon (`;`) above to suppress the output since we only want to see the actual figure and not anything else.\n",
    "\n",
    "#### Method 1 (Python-like)\n",
    "\n",
    "In this second method we start out by creating a figure and axis handle that contain everything we need about the plot. Each figure can contain several axes (subplots). This way we can fill each axis - e.g. with histograms of the data: "
   ]
  },
  {
   "cell_type": "code",
   "execution_count": 13,
   "metadata": {},
   "outputs": [
    {
     "data": {
      "image/png": "[encoded data removed]",
      "text/plain": [
       "<Figure size 864x432 with 1 Axes>"
      ]
     },
     "metadata": {},
     "output_type": "display_data"
    }
   ],
   "source": [
    "# create just a single figure and axes\n",
    "fig, ax = plt.subplots(figsize=(12, 6))  # figsize is in inches\n",
    "\n",
    "# create a histogram and give it a name.\n",
    "# It has with Nbin anount of bins in the range from xmin to xmax.\n",
    "# Choose a step type histogram with a line width of 2 in the color and label chosen.\n",
    "hist1 = ax.hist(x_all, bins=Nbins, range=(xmin, xmax), histtype='step', linewidth=2, color='red', label='Gaussian ($\\mu$ = -0.5)')\n",
    "hist2 = ax.hist(y_all, bins=Nbins, range=(xmin, xmax), histtype='step', linewidth=2, color='blue', label='Gaussian ($\\mu$ = +0.5)')\n",
    "\n",
    "# set the figure texts; xlabel, ylabel and title.\n",
    "ax.set(xlabel=\"Random numbers\", # the label of the y axis\n",
    "       ylabel=\"Frequency\",  # the label of the y axis\n",
    "       title=\"Distribution of Gaussian numbers\") # the title of the plot\n",
    "ax.legend(loc='best'); # could also be # loc = 'upper right' e.g."
   ]
  },
  {
   "cell_type": "markdown",
   "metadata": {},
   "source": [
    "As can be seen, the two figures are exactly the same. Sometimes it is quicker to play around with the `plt`-method of plotting in the beginning of a plot, but for more advanced plots the pythonic/OO-method (the one with `ax`) is recommended. \n",
    "\n",
    "## Fit to the data / histogram (1D):\n",
    "\n",
    "Having created the data, we also want to be able to fit the distributions. We first define the function, a Gaussian PDF in this case:"
   ]
  },
  {
   "cell_type": "code",
   "execution_count": 14,
   "metadata": {},
   "outputs": [],
   "source": [
    "# Define your PDF / model\n",
    "def gauss_pdf(x, mu, sigma):\n",
    "    \"\"\"Normalized Gaussian\"\"\"\n",
    "    return 1 / np.sqrt(2 * np.pi) / sigma * np.exp(-0.5 * (x - mu)**2 / sigma**2)"
   ]
  },
  {
   "cell_type": "code",
   "execution_count": 15,
   "metadata": {},
   "outputs": [],
   "source": [
    "def gauss_extended(x, N, mu, sigma) :\n",
    "    \"\"\"Non-normalized (extended) Gaussian\"\"\"\n",
    "    return N * gauss_pdf(x, mu, sigma)"
   ]
  },
  {
   "cell_type": "markdown",
   "metadata": {},
   "source": [
    "`gauss_extended` could also be written as: `gauss_extended = Extended(gauss_pdf)` using the `Extended` method from __[Probfit.](https://probfit.readthedocs.io/en/latest/)__  \n",
    "***\n",
    "Having defined our fitting function, we also want to make a *binned likelihood* fit of `gauss_extended` to the data `x_all`. What a binned likelihood-fit (and all the other types of fits in this section) is exactly you'll learn more about during the course. It is important to use the same bins and bounds as the original histogram. In this case we are also treating the number of events/random numbers as being a fit variable which makes this a so-called *extended fit* (more on that later as well).   \n",
    "***\n",
    "We initialize our fitting object, `binned_likelihood`, by using the `BinnedLH` function from probfit. This first takes the function to fit as input, then the input data and finally other fitting options such as the number of bins, the bounds and whether or not it is an extended fit):"
   ]
  },
  {
   "cell_type": "code",
   "execution_count": 16,
   "metadata": {},
   "outputs": [],
   "source": [
    "binned_likelihood = BinnedLH(gauss_extended, \n",
    "                             x_all,\n",
    "                             bins=Nbins, \n",
    "                             bound=(xmin, xmax),\n",
    "                             extended=True)\n",
    "# extended=True: this means that we let the number of events N be a variable as well\n",
    "# extended=False: this means that we have a fixed number of events, N."
   ]
  },
  {
   "cell_type": "markdown",
   "metadata": {},
   "source": [
    "Now we are ready to fit `binned_likelihood`. This is done using __[iMinuit](https://iminuit.readthedocs.io/en/latest/)__ which is a Python-wrapper for the wonderful minimization tool Minuit developed by CERN. We can help and constrain the fit in several ways. Minuit allows one to specify the initial guess of the parameters' values, the range allowed for the values and has the ability to fix certain parameters' values to constant values. Let's start with a basic example:"
   ]
  },
  {
   "cell_type": "code",
   "execution_count": 17,
   "metadata": {},
   "outputs": [],
   "source": [
    "minuit = Minuit(binned_likelihood, mu=-1, sigma=1, N=1000, pedantic=False)"
   ]
  },
  {
   "cell_type": "markdown",
   "metadata": {},
   "source": [
    "Here we tell Minuit that we want to minimize the `binned_likelihood` object, tells it the initial values for `mu`, `sigma` and `N` and finally disables some automatic warnings that Minuit shows (which are unimportant in most cases). In the text below here we show how to implement the ranges of the parameters and how to fix variables:\n",
    "\n",
    "``` \n",
    "minuit = Minuit(binned_likelihood, mu=-1, sigma=1, N=1000, pedantic=False,\n",
    "                limit_sigma = (0,10)  # set the range for sigma to be between 0 and 10\n",
    "                fix_N=True # fix the value of N to its initial value (1000)\n",
    "                )\n",
    "```\n",
    "\n",
    "We now let Minuit actually run the fitting routine:"
   ]
  },
  {
   "cell_type": "code",
   "execution_count": 18,
   "metadata": {
    "lines_to_next_cell": 2
   },
   "outputs": [
    {
     "name": "stderr",
     "output_type": "stream",
     "text": [
      "/opt/conda/envs/python3/lib/python3.6/site-packages/ipykernel_launcher.py:1: LogWarning: x is really small return 0\n",
      "  \"\"\"Entry point for launching an IPython kernel.\n"
     ]
    },
    {
     "data": {
      "text/html": [
       "<hr>"
      ]
     },
     "metadata": {},
     "output_type": "display_data"
    },
    {
     "data": {
      "text/html": [
       "<table>\n",
       "    <tr>\n",
       "        <td title=\"Minimum value of function\">FCN = 25.950645342578525</td>\n",
       "        <td title=\"Total number of call to FCN so far\">TOTAL NCALL = 121</td>\n",
       "        <td title=\"Number of call in last migrad\">NCALLS = 121</td>\n",
       "    </tr>\n",
       "    <tr>\n",
       "        <td title=\"Estimated distance to minimum\">EDM = 1.4814284584570755e-08</td>\n",
       "        <td title=\"Maximum EDM definition of convergence\">GOAL EDM = 5e-06</td>\n",
       "        <td title=\"Error def. Amount of increase in FCN to be defined as 1 standard deviation\">\n",
       "        UP = 0.5</td>\n",
       "    </tr>\n",
       "</table>\n",
       "<table>\n",
       "    <tr>\n",
       "        <td align=\"center\" title=\"Validity of the migrad call\">Valid</td>\n",
       "        <td align=\"center\" title=\"Validity of parameters\">Valid Param</td>\n",
       "        <td align=\"center\" title=\"Is Covariance matrix accurate?\">Accurate Covar</td>\n",
       "        <td align=\"center\" title=\"Positive definiteness of covariance matrix\">PosDef</td>\n",
       "        <td align=\"center\" title=\"Was covariance matrix made posdef by adding diagonal element\">Made PosDef</td>\n",
       "    </tr>\n",
       "    <tr>\n",
       "        <td align=\"center\" style=\"background-color:#92CCA6\">True</td>\n",
       "        <td align=\"center\" style=\"background-color:#92CCA6\">True</td>\n",
       "        <td align=\"center\" style=\"background-color:#92CCA6\">True</td>\n",
       "        <td align=\"center\" style=\"background-color:#92CCA6\">True</td>\n",
       "        <td align=\"center\" style=\"background-color:#92CCA6\">False</td>\n",
       "    </tr>\n",
       "    <tr>\n",
       "        <td align=\"center\" title=\"Was last hesse call fail?\">Hesse Fail</td>\n",
       "        <td align=\"center\" title=\"Validity of covariance\">HasCov</td>\n",
       "        <td align=\"center\" title=\"Is EDM above goal EDM?\">Above EDM</td>\n",
       "        <td align=\"center\"></td>\n",
       "        <td align=\"center\" title=\"Did last migrad call reach max call limit?\">Reach calllim</td>\n",
       "    </tr>\n",
       "    <tr>\n",
       "        <td align=\"center\" style=\"background-color:#92CCA6\">False</td>\n",
       "        <td align=\"center\" style=\"background-color:#92CCA6\">True</td>\n",
       "        <td align=\"center\" style=\"background-color:#92CCA6\">False</td>\n",
       "        <td align=\"center\"></td>\n",
       "        <td align=\"center\" style=\"background-color:#92CCA6\">False</td>\n",
       "    </tr>\n",
       "</table>"
      ]
     },
     "metadata": {},
     "output_type": "display_data"
    },
    {
     "data": {
      "text/html": [
       "<table>\n",
       "    <tr>\n",
       "        <td><a href=\"#\" onclick=\"$('#RCyliQOJAl').toggle()\">+</a></td>\n",
       "        <td title=\"Variable name\">Name</td>\n",
       "        <td title=\"Value of parameter\">Value</td>\n",
       "        <td title=\"Hesse error\">Hesse Error</td>\n",
       "        <td title=\"Minos lower error\">Minos Error-</td>\n",
       "        <td title=\"Minos upper error\">Minos Error+</td>\n",
       "        <td title=\"Lower limit of the parameter\">Limit-</td>\n",
       "        <td title=\"Upper limit of the parameter\">Limit+</td>\n",
       "        <td title=\"Is the parameter fixed in the fit\">Fixed?</td>\n",
       "    </tr>\n",
       "    <tr>\n",
       "        <td>0</td>\n",
       "        <td>N</td>\n",
       "        <td>9999.99</td>\n",
       "        <td>99.9999</td>\n",
       "        <td></td>\n",
       "        <td></td>\n",
       "        <td></td>\n",
       "        <td></td>\n",
       "        <td>No</td>\n",
       "    </tr>\n",
       "    <tr>\n",
       "        <td>1</td>\n",
       "        <td>mu</td>\n",
       "        <td>-0.509669</td>\n",
       "        <td>0.00793662</td>\n",
       "        <td></td>\n",
       "        <td></td>\n",
       "        <td></td>\n",
       "        <td></td>\n",
       "        <td>No</td>\n",
       "    </tr>\n",
       "    <tr>\n",
       "        <td>2</td>\n",
       "        <td>sigma</td>\n",
       "        <td>0.793137</td>\n",
       "        <td>0.00561577</td>\n",
       "        <td></td>\n",
       "        <td></td>\n",
       "        <td></td>\n",
       "        <td></td>\n",
       "        <td>No</td>\n",
       "    </tr>\n",
       "</table>\n",
       "<pre id=\"RCyliQOJAl\" style=\"display:none;\">\n",
       "<textarea rows=\"12\" cols=\"50\" onclick=\"this.select()\" readonly>\n",
       "\\begin{tabular}{|c|r|r|r|r|r|r|r|c|}\n",
       "\\hline\n",
       " & Name & Value & Hesse Error & Minos Error- & Minos Error+ & Limit- & Limit+ & Fixed?\\\\\n",
       "\\hline\n",
       "0 & N & 9999.99 & 99.9999 &  &  &  &  & No\\\\\n",
       "\\hline\n",
       "1 & $\\mu$ & -0.509669 & 0.00793662 &  &  &  &  & No\\\\\n",
       "\\hline\n",
       "2 & $\\sigma$ & 0.793137 & 0.00561577 &  &  &  &  & No\\\\\n",
       "\\hline\n",
       "\\end{tabular}\n",
       "</textarea>\n",
       "</pre>"
      ]
     },
     "metadata": {},
     "output_type": "display_data"
    },
    {
     "data": {
      "text/html": [
       "<hr>"
      ]
     },
     "metadata": {},
     "output_type": "display_data"
    }
   ],
   "source": [
    "minuit.migrad();  # perform the actual fit"
   ]
  },
  {
   "cell_type": "markdown",
   "metadata": {},
   "source": [
    "When run in a notebook, we get a very nice overview of the fit results.  \n",
    "\n",
    "1. The first table shows the function value (25.95), the total number of calls (121) during the fit along with some other metrics indicating the distance to the (estimated) global minimum.   \n",
    "2. The second table shows the validity of the fit indicated by all the green squares. It is always important to check that the fit converged!  \n",
    "3. The last table shows the fitted parameters' values along with their uncertainties. These uncertainties are super important (!) and the primary reason why we are not using the minimizer found in scipy (because scipy does not provide uncertainty bounds on general minimization estimates).   \n",
    "\n",
    "Below we show how to extract the values into variables which we can use further on and print the values:"
   ]
  },
  {
   "cell_type": "code",
   "execution_count": 19,
   "metadata": {},
   "outputs": [
    {
     "name": "stdout",
     "output_type": "stream",
     "text": [
      "Fit value: N = 9999.99117 +/- 99.99991\n",
      "Fit value: mu = -0.50967 +/- 0.00794\n",
      "Fit value: sigma = 0.79314 +/- 0.00562\n",
      "25.950645342578525\n"
     ]
    }
   ],
   "source": [
    "fit_N, fit_mu, fit_sigma = minuit.args # the fitted values of the parameters\n",
    "for name in minuit.parameters:\n",
    "    value, error = minuit.values[name], minuit.errors[name]\n",
    "    print(f\"Fit value: {name} = {value:.5f} +/- {error:.5f}\")\n",
    "    \n",
    "LLH_value = minuit.fval # the LogLikeliHood (LLH) value\n",
    "print(LLH_value)"
   ]
  },
  {
   "cell_type": "markdown",
   "metadata": {},
   "source": [
    "Let's see if the fitted values actually match the distribution. This is always an important check to make as our eyes are extremely good at estimating the goodness of a fit (compared to just seeing some numbers). This also serves an extra check of the code, since sometimes you've made an error in the code which suddenly becomes very visible when plotted.\n",
    "\n",
    "Since we are dealing with binned data, we have to take the binwidth into account. This is calculated as: $\\text{binwidth} = \\frac{\\Delta x}{\\text{Nbins}}$. We then multiply the fitted (y) values with the binwidth to get matching scales in the plot and plot the fit in the the `ax` object from the figure above:"
   ]
  },
  {
   "cell_type": "code",
   "execution_count": 20,
   "metadata": {},
   "outputs": [],
   "source": [
    "binwidth = (xmax-xmin) / Nbins # the scale factor between the histogram and the fit. Takes bin width into account.\n",
    "x_fit = np.linspace(-5, 5, 1000) # Create the x-axis for the plot of the fitted function\n",
    "y_fit = binwidth*gauss_extended(x_fit, fit_N, fit_mu, fit_sigma) # the fitted function"
   ]
  },
  {
   "cell_type": "code",
   "execution_count": 21,
   "metadata": {},
   "outputs": [
    {
     "data": {
      "image/png": "[encoded data removed]",
      "text/plain": [
       "<Figure size 864x432 with 1 Axes>"
      ]
     },
     "execution_count": 21,
     "metadata": {},
     "output_type": "execute_result"
    }
   ],
   "source": [
    "ax.plot(x_fit, y_fit, '-', color='red', label='Fit with Gaussian to x')\n",
    "ax.set(ylabel=f\"Frequency / {binwidth}\")\n",
    "ax.legend(loc='upper right')          # Here we don't put any \";\", as fig is the last command, which does not give any output.\n",
    "fig"
   ]
  },
  {
   "cell_type": "markdown",
   "metadata": {
    "lines_to_next_cell": 2
   },
   "source": [
    "Note, we refer to the old figure `fig`. Had we done another plot in between, we would not have been able to plot on top of the old figure with the matlab syntax."
   ]
  },
  {
   "cell_type": "markdown",
   "metadata": {
    "lines_to_next_cell": 2
   },
   "source": [
    "Note, had we wanted to plot either of the histograms as errorbars, we would have needed the following:  \n",
    "\n",
    "```\n",
    "y, bin_edges = np.histogram(x_all, bins=Nbins, range=(xmin, xmax), normed=False)\n",
    "x = 0.5*(bin_edges[:-1] + bin_edges[1:])\n",
    "sy = np.sqrt(y)\n",
    "hist1 = ax.errorbar(x, y, sy, fmt='.', label='Gaussian number distribution')\n",
    "```\n"
   ]
  },
  {
   "cell_type": "markdown",
   "metadata": {},
   "source": [
    "## Get statistics"
   ]
  },
  {
   "cell_type": "markdown",
   "metadata": {},
   "source": [
    "In this section we calculate the needed statistical values for the fit. First we extract the x and y values of the histogram and assume Poisson statistics to calculate the uncertainties:"
   ]
  },
  {
   "cell_type": "code",
   "execution_count": 22,
   "metadata": {
    "lines_to_next_cell": 2
   },
   "outputs": [],
   "source": [
    "entries, bin_edges, _ = hist1\n",
    "bin_centers = 0.5*(bin_edges[:-1] + bin_edges[1:])\n",
    "\n",
    "hist1_x = bin_centers \n",
    "hist1_y = entries\n",
    "hist1_sy = np.sqrt(hist1_y)"
   ]
  },
  {
   "cell_type": "markdown",
   "metadata": {},
   "source": [
    "We then calculate the chi squared value ($\\chi^2$). Remember that $\\chi^2$ is calculated as: \n",
    "\\begin{equation*}\n",
    "\\chi^2 = \\sum_{i}^{N} \\frac{(y_i - f(x_i))^2}{\\sigma_i^2}\n",
    "\\end{equation*}"
   ]
  },
  {
   "cell_type": "code",
   "execution_count": 23,
   "metadata": {
    "lines_to_next_cell": 2
   },
   "outputs": [],
   "source": [
    "# Here we calculate the chi2 value of the fit and the number of non-empty bins\n",
    "chi2_val = 0\n",
    "N_NotEmptyBin = 0\n",
    "\n",
    "for x, y, sy in zip(hist1_x, hist1_y, hist1_sy):\n",
    "    if y > 0:\n",
    "        f = binwidth * gauss_extended(x, fit_N, fit_mu, fit_sigma) # calc the model value\n",
    "        chi2_val  += (y - f)**2 / sy**2  # calulate the chi2 value\n",
    "        N_NotEmptyBin += 1 # count the bin as non-empty since y>0 (and thus sy>0)"
   ]
  },
  {
   "cell_type": "markdown",
   "metadata": {},
   "source": [
    "Above we have shown how do calculate $\\chi^2$ in a loop-oriented way for pedagogical reasons. This, however, is usually not the optimal way of utilizing Numpy's true power. It can be computationally optimized by vectorizing the code:"
   ]
  },
  {
   "cell_type": "code",
   "execution_count": 24,
   "metadata": {},
   "outputs": [],
   "source": [
    "f = binwidth * gauss_extended(hist1_x, fit_N, fit_mu, fit_sigma)\n",
    "mask_zeroes = (hist1_y > 0)\n",
    "\n",
    "chi2_val_np = np.sum( (f[mask_zeroes] - hist1_y[mask_zeroes])**2 / hist1_sy[mask_zeroes]**2)\n",
    "N_NotEmptyBin_np = np.sum(mask_zeroes)"
   ]
  },
  {
   "cell_type": "markdown",
   "metadata": {},
   "source": [
    "And we can see that the two results are similar (using `np.allclose` to do a boolean comparison of floats):"
   ]
  },
  {
   "cell_type": "code",
   "execution_count": 25,
   "metadata": {},
   "outputs": [
    {
     "name": "stdout",
     "output_type": "stream",
     "text": [
      "46.03138780649255\n",
      "46.03138780649254\n",
      "True\n",
      "\n",
      "58\n",
      "58\n",
      "True\n"
     ]
    }
   ],
   "source": [
    "print(chi2_val)\n",
    "print(chi2_val_np)\n",
    "print(np.allclose(chi2_val,chi2_val_np)) # np.allclose to do a boolean comparison of floats\n",
    "print(\"\")\n",
    "print(N_NotEmptyBin)\n",
    "print(N_NotEmptyBin_np)\n",
    "print(np.allclose(N_NotEmptyBin, N_NotEmptyBin_np))"
   ]
  },
  {
   "cell_type": "markdown",
   "metadata": {},
   "source": [
    "Below we find the number of degrees of freedom (`N_DOF`), which is the number of data points in the fit (non-empty) minus the number of fitting parameters:"
   ]
  },
  {
   "cell_type": "code",
   "execution_count": 26,
   "metadata": {
    "lines_to_next_cell": 2
   },
   "outputs": [],
   "source": [
    "N_DOF = N_NotEmptyBin - len(minuit.args)"
   ]
  },
  {
   "cell_type": "markdown",
   "metadata": {},
   "source": [
    "Given the $\\chi^2$ value and `N_DOF`, we can also calculate the $\\chi^2$ probability `chi2_prob`:"
   ]
  },
  {
   "cell_type": "code",
   "execution_count": 27,
   "metadata": {},
   "outputs": [
    {
     "data": {
      "text/plain": [
       "0.8001262163693811"
      ]
     },
     "execution_count": 27,
     "metadata": {},
     "output_type": "execute_result"
    }
   ],
   "source": [
    "chi2_prob = stats.chi2.sf(chi2_val, N_DOF) # The chi2 probability given N_DOF degrees of freedom\n",
    "chi2_prob"
   ]
  },
  {
   "cell_type": "markdown",
   "metadata": {},
   "source": [
    "This shows us that there is a 80% probability of obtaining a worse fit just by chance. Or, to quote __[Wikipedia](https://en.wikipedia.org/wiki/Chi-squared_distribution)__: *The p-value is the probability of observing a test statistic at least as extreme in a chi-squared distribution*. But we will talk **a lot** more about p-values and the chi-square distribution later on in the course. \n",
    "\n",
    "***\n",
    "\n",
    "Below we also show how to add all of the above information into the figure as well. We define a dictionary `d` which has the information that we want in the plot in it. It has the names of the different elements as keys and the corresponding numbers as values. In case we want to include numbers as uncertainties, we include them as a length-2 list (see `mu` below). Other than that, the function `nice_string_output` takes care of the rest of the formatting (including floats vs. ints). It allows the user to set a custom amount of spacing, `extra_spacing`, between then names and the numbers in the string and the number of decimals to show, `decimals`. \n"
   ]
  },
  {
   "cell_type": "code",
   "execution_count": 28,
   "metadata": {},
   "outputs": [],
   "source": [
    "d = {'Entries':  len(x_all),\n",
    "     'Mean':     x_all.mean(),\n",
    "     'Std':      x_all.std(ddof=1),\n",
    "     # 'N':        [minuit.values['N'], minuit.errors['N']],\n",
    "     'mu':       [minuit.values['mu'], minuit.errors['mu']],\n",
    "     # 'sigma':    [minuit.values['sigma'], minuit.errors['sigma']],\n",
    "     'Chi2':     chi2_val,\n",
    "     'ndf':      N_DOF,\n",
    "     'Prob':     chi2_prob,\n",
    "    }"
   ]
  },
  {
   "cell_type": "code",
   "execution_count": 29,
   "metadata": {},
   "outputs": [
    {
     "data": {
      "text/plain": [
       "10000"
      ]
     },
     "execution_count": 29,
     "metadata": {},
     "output_type": "execute_result"
    }
   ],
   "source": [
    "d['Entries']"
   ]
  },
  {
   "cell_type": "markdown",
   "metadata": {},
   "source": [
    "Above we have commented out the fitted normalisation `N` and width `sigma` for simplicity, but below we'll show you a way to avoid \"manually\" writing all parameters by hand. Now we use `nice_string_output` to define the text and then `add_text_to_ax` to add the text to the plot. `fig.tight_layout()` is used to remove unnecessary spacing around the figure in the end. "
   ]
  },
  {
   "cell_type": "code",
   "execution_count": 30,
   "metadata": {
    "lines_to_next_cell": 2
   },
   "outputs": [
    {
     "data": {
      "image/png": "[encoded data removed]",
      "text/plain": [
       "<Figure size 864x432 with 1 Axes>"
      ]
     },
     "execution_count": 30,
     "metadata": {},
     "output_type": "execute_result"
    }
   ],
   "source": [
    "text = nice_string_output(d, extra_spacing=2, decimals=3)\n",
    "add_text_to_ax(0.02, 0.95, text, ax, fontsize=12)\n",
    "fig.tight_layout()\n",
    "# Note, we refer to the old plot \"ax\". Had we done another plot inbetween,\n",
    "# we would not have been able to plot on top of the old figure with the matlab syntax\n",
    "\n",
    "fig"
   ]
  },
  {
   "cell_type": "markdown",
   "metadata": {},
   "source": [
    "We now a final, nicely looking plot which we can save for later use, e.g. in a report. We give it a name and specify the resolution with the `dpi` keyword, where 600 is usually a good choice. "
   ]
  },
  {
   "cell_type": "code",
   "execution_count": 31,
   "metadata": {},
   "outputs": [],
   "source": [
    "if save_plots:\n",
    "    fig.savefig('Histogram.pdf', dpi=600)"
   ]
  },
  {
   "cell_type": "markdown",
   "metadata": {},
   "source": [
    "## Graph with fit (1D):\n",
    "\n",
    "In addition to fitting a histogram, we sometimes get measurements of both x and y, e.g. measuring the distance versus time, along with their uncertainties. This part of the exercise shows hwo to fit the data in thus cases.\n",
    "***\n",
    "We first initialize the needed arrays (all of lenght 51):"
   ]
  },
  {
   "cell_type": "code",
   "execution_count": 32,
   "metadata": {},
   "outputs": [],
   "source": [
    "# Define points for a graph with errors:\n",
    "Ndata = 51\n",
    "x  = np.zeros(Ndata) # create empty arrays to store the numbers in\n",
    "y  = np.zeros(Ndata)\n",
    "sx  = np.zeros(Ndata)\n",
    "sy  = np.zeros(Ndata)"
   ]
  },
  {
   "cell_type": "markdown",
   "metadata": {},
   "source": [
    "Having defined four arrays filled with zeros, below we fill it with randomly generated values:"
   ]
  },
  {
   "cell_type": "code",
   "execution_count": 33,
   "metadata": {},
   "outputs": [
    {
     "name": "stdout",
     "output_type": "stream",
     "text": [
      "Graph point  0:   x = -1.250 +- 0.000    y = -2.267 +- 0.100\n",
      "Graph point  1:   x = -1.200 +- 0.000    y = -1.836 +- 0.100\n",
      "Graph point  2:   x = -1.150 +- 0.000    y = -1.712 +- 0.100\n",
      "Graph point  3:   x = -1.100 +- 0.000    y = -1.473 +- 0.100\n",
      "Graph point  4:   x = -1.050 +- 0.000    y = -1.233 +- 0.100\n",
      "Graph point  5:   x = -1.000 +- 0.000    y = -1.164 +- 0.100\n",
      "Graph point  6:   x = -0.950 +- 0.000    y = -1.224 +- 0.100\n",
      "Graph point  7:   x = -0.900 +- 0.000    y = -0.849 +- 0.100\n",
      "Graph point  8:   x = -0.850 +- 0.000    y = -0.764 +- 0.100\n",
      "Graph point  9:   x = -0.800 +- 0.000    y = -1.033 +- 0.100\n"
     ]
    }
   ],
   "source": [
    "for i in range(Ndata):\n",
    "    x[i] = -1.25 + 0.05*i\n",
    "    y[i] = -2.0 - 2.0*x[i] + 1.0*x[i]*np.sin(x[i]) + 2.0*x[i]**3\n",
    "    if (x[i] > 0.0):\n",
    "        y[i] += 0.5                   # Put in a discontinuity by hand!\n",
    "    y[i] += r.normal(0., 0.1)         # Adding a Gaussian variation of 0.1\n",
    "    sx[i] = 0.0                       # Deciding that x is precise!\n",
    "    sy[i] = 0.1                       # The uncertainty/error of y\n",
    "    if (verbose and i < Nverbose):\n",
    "        print(f\"Graph point {i:2d}:   x = {x[i]:6.3f} +- {sx[i]:5.3f}    y = {y[i]:6.3f} +- {sy[i]:5.3f}\")"
   ]
  },
  {
   "cell_type": "markdown",
   "metadata": {},
   "source": [
    "Again this can be done with Numpy. In this case though, it is not much quicker:"
   ]
  },
  {
   "cell_type": "code",
   "execution_count": 34,
   "metadata": {},
   "outputs": [],
   "source": [
    "x = np.linspace(-1.25, -1.25+0.05*(Ndata-1), Ndata)\n",
    "y = -2.0 - 2.0*x + 1.0*x*np.sin(x) + 2.0*x**3\n",
    "y[x>0.0] += 0.5 # added discontinuity at x=0\n",
    "y += r.normal(0., 0.1, Ndata)\n",
    "sx = np.zeros(Ndata)\n",
    "sy = 0.1*np.ones(Ndata)"
   ]
  },
  {
   "cell_type": "markdown",
   "metadata": {},
   "source": [
    "We now plot the data. Notice that we give the plots new names (`fig2`, `ax2`) so we can differentiate between the old (`fig`, `ax`) and the new plots."
   ]
  },
  {
   "cell_type": "code",
   "execution_count": 35,
   "metadata": {},
   "outputs": [
    {
     "data": {
      "image/png": "[encoded data removed]",
      "text/plain": [
       "<Figure size 864x432 with 1 Axes>"
      ]
     },
     "metadata": {},
     "output_type": "display_data"
    }
   ],
   "source": [
    "fig2, ax2 = plt.subplots(figsize=(12, 6))\n",
    "ax2.errorbar(x, y, xerr=sx, yerr=sy, fmt='.')\n",
    "ax2.set(title=\"Fit of a graph\", \n",
    "        xlabel=\"x\", \n",
    "        ylabel=\"y\",\n",
    "        xlim=(-1.3, 1.3));"
   ]
  },
  {
   "cell_type": "markdown",
   "metadata": {},
   "source": [
    "We now try to fit the function $f(x)=p_0 + p_1 x + p_2 x \\sin x + p_3 x^3$ to the data. First we define the function:"
   ]
  },
  {
   "cell_type": "code",
   "execution_count": 36,
   "metadata": {},
   "outputs": [],
   "source": [
    "def func_simple(x, p0, p1, p2, p3):\n",
    "    return p0 + p1*x + p2*x*np.sin(x) + p3*x*x*x"
   ]
  },
  {
   "cell_type": "markdown",
   "metadata": {},
   "source": [
    "In this case want to do a chi square ($\\chi^2$) fit to the data. We initialize a probfit object with the `Chi2Regression` function:"
   ]
  },
  {
   "cell_type": "code",
   "execution_count": 37,
   "metadata": {
    "lines_to_next_cell": 2
   },
   "outputs": [],
   "source": [
    "chi2_object_simple = Chi2Regression(func_simple, x, y, sy)"
   ]
  },
  {
   "cell_type": "markdown",
   "metadata": {},
   "source": [
    "We now tell Minuit that we want to minimize `chi2_object_simple` and provide initial guesses for the parameters:"
   ]
  },
  {
   "cell_type": "code",
   "execution_count": 38,
   "metadata": {},
   "outputs": [
    {
     "data": {
      "text/html": [
       "<hr>"
      ]
     },
     "metadata": {},
     "output_type": "display_data"
    },
    {
     "data": {
      "text/html": [
       "<table>\n",
       "    <tr>\n",
       "        <td title=\"Minimum value of function\">FCN = 104.10301698279432</td>\n",
       "        <td title=\"Total number of call to FCN so far\">TOTAL NCALL = 89</td>\n",
       "        <td title=\"Number of call in last migrad\">NCALLS = 89</td>\n",
       "    </tr>\n",
       "    <tr>\n",
       "        <td title=\"Estimated distance to minimum\">EDM = 3.542757710653819e-20</td>\n",
       "        <td title=\"Maximum EDM definition of convergence\">GOAL EDM = 1e-05</td>\n",
       "        <td title=\"Error def. Amount of increase in FCN to be defined as 1 standard deviation\">\n",
       "        UP = 1.0</td>\n",
       "    </tr>\n",
       "</table>\n",
       "<table>\n",
       "    <tr>\n",
       "        <td align=\"center\" title=\"Validity of the migrad call\">Valid</td>\n",
       "        <td align=\"center\" title=\"Validity of parameters\">Valid Param</td>\n",
       "        <td align=\"center\" title=\"Is Covariance matrix accurate?\">Accurate Covar</td>\n",
       "        <td align=\"center\" title=\"Positive definiteness of covariance matrix\">PosDef</td>\n",
       "        <td align=\"center\" title=\"Was covariance matrix made posdef by adding diagonal element\">Made PosDef</td>\n",
       "    </tr>\n",
       "    <tr>\n",
       "        <td align=\"center\" style=\"background-color:#92CCA6\">True</td>\n",
       "        <td align=\"center\" style=\"background-color:#92CCA6\">True</td>\n",
       "        <td align=\"center\" style=\"background-color:#92CCA6\">True</td>\n",
       "        <td align=\"center\" style=\"background-color:#92CCA6\">True</td>\n",
       "        <td align=\"center\" style=\"background-color:#92CCA6\">False</td>\n",
       "    </tr>\n",
       "    <tr>\n",
       "        <td align=\"center\" title=\"Was last hesse call fail?\">Hesse Fail</td>\n",
       "        <td align=\"center\" title=\"Validity of covariance\">HasCov</td>\n",
       "        <td align=\"center\" title=\"Is EDM above goal EDM?\">Above EDM</td>\n",
       "        <td align=\"center\"></td>\n",
       "        <td align=\"center\" title=\"Did last migrad call reach max call limit?\">Reach calllim</td>\n",
       "    </tr>\n",
       "    <tr>\n",
       "        <td align=\"center\" style=\"background-color:#92CCA6\">False</td>\n",
       "        <td align=\"center\" style=\"background-color:#92CCA6\">True</td>\n",
       "        <td align=\"center\" style=\"background-color:#92CCA6\">False</td>\n",
       "        <td align=\"center\"></td>\n",
       "        <td align=\"center\" style=\"background-color:#92CCA6\">False</td>\n",
       "    </tr>\n",
       "</table>"
      ]
     },
     "metadata": {},
     "output_type": "display_data"
    },
    {
     "data": {
      "text/html": [
       "<table>\n",
       "    <tr>\n",
       "        <td><a href=\"#\" onclick=\"$('#cigFhxmNWt').toggle()\">+</a></td>\n",
       "        <td title=\"Variable name\">Name</td>\n",
       "        <td title=\"Value of parameter\">Value</td>\n",
       "        <td title=\"Hesse error\">Hesse Error</td>\n",
       "        <td title=\"Minos lower error\">Minos Error-</td>\n",
       "        <td title=\"Minos upper error\">Minos Error+</td>\n",
       "        <td title=\"Lower limit of the parameter\">Limit-</td>\n",
       "        <td title=\"Upper limit of the parameter\">Limit+</td>\n",
       "        <td title=\"Is the parameter fixed in the fit\">Fixed?</td>\n",
       "    </tr>\n",
       "    <tr>\n",
       "        <td>0</td>\n",
       "        <td>p0</td>\n",
       "        <td>-1.76664</td>\n",
       "        <td>0.0219323</td>\n",
       "        <td></td>\n",
       "        <td></td>\n",
       "        <td></td>\n",
       "        <td></td>\n",
       "        <td>No</td>\n",
       "    </tr>\n",
       "    <tr>\n",
       "        <td>1</td>\n",
       "        <td>p1</td>\n",
       "        <td>-1.44073</td>\n",
       "        <td>0.0476293</td>\n",
       "        <td></td>\n",
       "        <td></td>\n",
       "        <td></td>\n",
       "        <td></td>\n",
       "        <td>No</td>\n",
       "    </tr>\n",
       "    <tr>\n",
       "        <td>2</td>\n",
       "        <td>p2</td>\n",
       "        <td>1.03001</td>\n",
       "        <td>0.0368052</td>\n",
       "        <td></td>\n",
       "        <td></td>\n",
       "        <td></td>\n",
       "        <td></td>\n",
       "        <td>No</td>\n",
       "    </tr>\n",
       "    <tr>\n",
       "        <td>3</td>\n",
       "        <td>p3</td>\n",
       "        <td>1.71252</td>\n",
       "        <td>0.0448068</td>\n",
       "        <td></td>\n",
       "        <td></td>\n",
       "        <td></td>\n",
       "        <td></td>\n",
       "        <td>No</td>\n",
       "    </tr>\n",
       "</table>\n",
       "<pre id=\"cigFhxmNWt\" style=\"display:none;\">\n",
       "<textarea rows=\"14\" cols=\"50\" onclick=\"this.select()\" readonly>\n",
       "\\begin{tabular}{|c|r|r|r|r|r|r|r|c|}\n",
       "\\hline\n",
       " & Name & Value & Hesse Error & Minos Error- & Minos Error+ & Limit- & Limit+ & Fixed?\\\\\n",
       "\\hline\n",
       "0 & p0 & -1.76664 & 0.0219323 &  &  &  &  & No\\\\\n",
       "\\hline\n",
       "1 & p1 & -1.44073 & 0.0476293 &  &  &  &  & No\\\\\n",
       "\\hline\n",
       "2 & p2 & 1.03001 & 0.0368052 &  &  &  &  & No\\\\\n",
       "\\hline\n",
       "3 & p3 & 1.71252 & 0.0448068 &  &  &  &  & No\\\\\n",
       "\\hline\n",
       "\\end{tabular}\n",
       "</textarea>\n",
       "</pre>"
      ]
     },
     "metadata": {},
     "output_type": "display_data"
    },
    {
     "data": {
      "text/html": [
       "<hr>"
      ]
     },
     "metadata": {},
     "output_type": "display_data"
    }
   ],
   "source": [
    "minuit_simple = Minuit(chi2_object_simple, pedantic=False,\n",
    "                       p0=0., p1=2.0, p2=0.0, p3=2.0)\n",
    "minuit_simple.migrad(); # fit"
   ]
  },
  {
   "cell_type": "markdown",
   "metadata": {},
   "source": [
    "As last time wee see a lot of green indicating that the fit converged - yay! We see the the minimum value, $\\chi^2$ in this case, is 73.9, and we see the values of the fit parameters along with their uncertainties. We can also print these parameters as we like it:"
   ]
  },
  {
   "cell_type": "code",
   "execution_count": 39,
   "metadata": {},
   "outputs": [
    {
     "name": "stdout",
     "output_type": "stream",
     "text": [
      "Simple fit\n",
      "Fit value: p0 = -1.76664 +/- 0.02193\n",
      "Fit value: p1 = -1.44073 +/- 0.04763\n",
      "Fit value: p2 = 1.03001 +/- 0.03681\n",
      "Fit value: p3 = 1.71252 +/- 0.04481\n"
     ]
    }
   ],
   "source": [
    "p0, p1, p2, p3 = minuit_simple.args\n",
    "print(\"Simple fit\")\n",
    "for name in minuit_simple.parameters:\n",
    "    print(\"Fit value: {0} = {1:.5f} +/- {2:.5f}\".format(name, minuit_simple.values[name], minuit_simple.errors[name]))"
   ]
  },
  {
   "cell_type": "markdown",
   "metadata": {},
   "source": [
    "And plot the fit on the same plot as the data (`ax2`):"
   ]
  },
  {
   "cell_type": "code",
   "execution_count": 40,
   "metadata": {
    "lines_to_next_cell": 2
   },
   "outputs": [
    {
     "data": {
      "image/png": "[encoded data removed]",
      "text/plain": [
       "<Figure size 864x432 with 1 Axes>"
      ]
     },
     "execution_count": 40,
     "metadata": {},
     "output_type": "execute_result"
    }
   ],
   "source": [
    "x_fit = np.linspace(-1.3, 1.3, 1000)\n",
    "y_fit_simple = func_simple(x_fit, p0, p1, p2, p3)\n",
    "ax2.plot(x_fit, y_fit_simple, '-', label='Simple fit')\n",
    "fig2"
   ]
  },
  {
   "cell_type": "markdown",
   "metadata": {},
   "source": [
    "However, we also know that the data was generated with a discontinuity at $x=0$. To fit that, we first define a function that depends on the value of x (piecewise function 'gaffelfunktion'):"
   ]
  },
  {
   "cell_type": "code",
   "execution_count": 41,
   "metadata": {
    "lines_to_next_cell": 2
   },
   "outputs": [],
   "source": [
    "# Defining external function (which can include \"if\" statements and everything else!):\n",
    "def func_advanced(x, p0, p1, p2, p3, p4) :\n",
    "    if x > 0:\n",
    "        return p0 + p1*x + p2*x*np.sin(x) + p3*x**3 + p4\n",
    "    else:\n",
    "        return p0 + p1*x + p2*x*np.sin(x) + p3*x**3"
   ]
  },
  {
   "cell_type": "markdown",
   "metadata": {},
   "source": [
    "The function above accepts only single values for x, ie. not lists/arrays. This is the format that Minuit expects, so this is the function that we are going to use in the fit.  \n",
    "However, when plotting the data, or simply doing anything other than fitting it with Minuit, we can use Numpy to vectorize the function. Numpy has the function `np.vectorize` which transforms a non-vectorized function to vectorized, such that the output allows x to be a numpy array instead of just a scalar:"
   ]
  },
  {
   "cell_type": "code",
   "execution_count": 42,
   "metadata": {},
   "outputs": [],
   "source": [
    "func_advanced_vec = np.vectorize(func_advanced)"
   ]
  },
  {
   "cell_type": "markdown",
   "metadata": {},
   "source": [
    "We will not need `func_advanced_vec` for the fit though, so we continue defining the chi2-fit object using `func_advanced`: "
   ]
  },
  {
   "cell_type": "code",
   "execution_count": 43,
   "metadata": {},
   "outputs": [],
   "source": [
    "chi2_object_advanced = Chi2Regression(func_advanced, x, y, sy)"
   ]
  },
  {
   "cell_type": "markdown",
   "metadata": {},
   "source": [
    "And minimize it:"
   ]
  },
  {
   "cell_type": "code",
   "execution_count": 44,
   "metadata": {
    "lines_to_next_cell": 2
   },
   "outputs": [
    {
     "data": {
      "text/html": [
       "<hr>"
      ]
     },
     "metadata": {},
     "output_type": "display_data"
    },
    {
     "data": {
      "text/html": [
       "<table>\n",
       "    <tr>\n",
       "        <td title=\"Minimum value of function\">FCN = 41.58272292312255</td>\n",
       "        <td title=\"Total number of call to FCN so far\">TOTAL NCALL = 125</td>\n",
       "        <td title=\"Number of call in last migrad\">NCALLS = 125</td>\n",
       "    </tr>\n",
       "    <tr>\n",
       "        <td title=\"Estimated distance to minimum\">EDM = 1.136583419515686e-15</td>\n",
       "        <td title=\"Maximum EDM definition of convergence\">GOAL EDM = 1e-05</td>\n",
       "        <td title=\"Error def. Amount of increase in FCN to be defined as 1 standard deviation\">\n",
       "        UP = 1.0</td>\n",
       "    </tr>\n",
       "</table>\n",
       "<table>\n",
       "    <tr>\n",
       "        <td align=\"center\" title=\"Validity of the migrad call\">Valid</td>\n",
       "        <td align=\"center\" title=\"Validity of parameters\">Valid Param</td>\n",
       "        <td align=\"center\" title=\"Is Covariance matrix accurate?\">Accurate Covar</td>\n",
       "        <td align=\"center\" title=\"Positive definiteness of covariance matrix\">PosDef</td>\n",
       "        <td align=\"center\" title=\"Was covariance matrix made posdef by adding diagonal element\">Made PosDef</td>\n",
       "    </tr>\n",
       "    <tr>\n",
       "        <td align=\"center\" style=\"background-color:#92CCA6\">True</td>\n",
       "        <td align=\"center\" style=\"background-color:#92CCA6\">True</td>\n",
       "        <td align=\"center\" style=\"background-color:#92CCA6\">True</td>\n",
       "        <td align=\"center\" style=\"background-color:#92CCA6\">True</td>\n",
       "        <td align=\"center\" style=\"background-color:#92CCA6\">False</td>\n",
       "    </tr>\n",
       "    <tr>\n",
       "        <td align=\"center\" title=\"Was last hesse call fail?\">Hesse Fail</td>\n",
       "        <td align=\"center\" title=\"Validity of covariance\">HasCov</td>\n",
       "        <td align=\"center\" title=\"Is EDM above goal EDM?\">Above EDM</td>\n",
       "        <td align=\"center\"></td>\n",
       "        <td align=\"center\" title=\"Did last migrad call reach max call limit?\">Reach calllim</td>\n",
       "    </tr>\n",
       "    <tr>\n",
       "        <td align=\"center\" style=\"background-color:#92CCA6\">False</td>\n",
       "        <td align=\"center\" style=\"background-color:#92CCA6\">True</td>\n",
       "        <td align=\"center\" style=\"background-color:#92CCA6\">False</td>\n",
       "        <td align=\"center\"></td>\n",
       "        <td align=\"center\" style=\"background-color:#92CCA6\">False</td>\n",
       "    </tr>\n",
       "</table>"
      ]
     },
     "metadata": {},
     "output_type": "display_data"
    },
    {
     "data": {
      "text/html": [
       "<table>\n",
       "    <tr>\n",
       "        <td><a href=\"#\" onclick=\"$('#JlKwPfuYzS').toggle()\">+</a></td>\n",
       "        <td title=\"Variable name\">Name</td>\n",
       "        <td title=\"Value of parameter\">Value</td>\n",
       "        <td title=\"Hesse error\">Hesse Error</td>\n",
       "        <td title=\"Minos lower error\">Minos Error-</td>\n",
       "        <td title=\"Minos upper error\">Minos Error+</td>\n",
       "        <td title=\"Lower limit of the parameter\">Limit-</td>\n",
       "        <td title=\"Upper limit of the parameter\">Limit+</td>\n",
       "        <td title=\"Is the parameter fixed in the fit\">Fixed?</td>\n",
       "    </tr>\n",
       "    <tr>\n",
       "        <td>0</td>\n",
       "        <td>p0</td>\n",
       "        <td>-2.04809</td>\n",
       "        <td>0.0418099</td>\n",
       "        <td></td>\n",
       "        <td></td>\n",
       "        <td></td>\n",
       "        <td></td>\n",
       "        <td>No</td>\n",
       "    </tr>\n",
       "    <tr>\n",
       "        <td>1</td>\n",
       "        <td>p1</td>\n",
       "        <td>-2.09316</td>\n",
       "        <td>0.0952723</td>\n",
       "        <td></td>\n",
       "        <td></td>\n",
       "        <td></td>\n",
       "        <td></td>\n",
       "        <td>No</td>\n",
       "    </tr>\n",
       "    <tr>\n",
       "        <td>2</td>\n",
       "        <td>p2</td>\n",
       "        <td>1.01164</td>\n",
       "        <td>0.0368784</td>\n",
       "        <td></td>\n",
       "        <td></td>\n",
       "        <td></td>\n",
       "        <td></td>\n",
       "        <td>No</td>\n",
       "    </tr>\n",
       "    <tr>\n",
       "        <td>3</td>\n",
       "        <td>p3</td>\n",
       "        <td>2.02506</td>\n",
       "        <td>0.0597496</td>\n",
       "        <td></td>\n",
       "        <td></td>\n",
       "        <td></td>\n",
       "        <td></td>\n",
       "        <td>No</td>\n",
       "    </tr>\n",
       "    <tr>\n",
       "        <td>4</td>\n",
       "        <td>p4</td>\n",
       "        <td>0.591352</td>\n",
       "        <td>0.0747887</td>\n",
       "        <td></td>\n",
       "        <td></td>\n",
       "        <td></td>\n",
       "        <td></td>\n",
       "        <td>No</td>\n",
       "    </tr>\n",
       "</table>\n",
       "<pre id=\"JlKwPfuYzS\" style=\"display:none;\">\n",
       "<textarea rows=\"16\" cols=\"50\" onclick=\"this.select()\" readonly>\n",
       "\\begin{tabular}{|c|r|r|r|r|r|r|r|c|}\n",
       "\\hline\n",
       " & Name & Value & Hesse Error & Minos Error- & Minos Error+ & Limit- & Limit+ & Fixed?\\\\\n",
       "\\hline\n",
       "0 & p0 & -2.04809 & 0.0418099 &  &  &  &  & No\\\\\n",
       "\\hline\n",
       "1 & p1 & -2.09316 & 0.0952723 &  &  &  &  & No\\\\\n",
       "\\hline\n",
       "2 & p2 & 1.01164 & 0.0368784 &  &  &  &  & No\\\\\n",
       "\\hline\n",
       "3 & p3 & 2.02506 & 0.0597496 &  &  &  &  & No\\\\\n",
       "\\hline\n",
       "4 & p4 & 0.591352 & 0.0747887 &  &  &  &  & No\\\\\n",
       "\\hline\n",
       "\\end{tabular}\n",
       "</textarea>\n",
       "</pre>"
      ]
     },
     "metadata": {},
     "output_type": "display_data"
    },
    {
     "data": {
      "text/html": [
       "<hr>"
      ]
     },
     "metadata": {},
     "output_type": "display_data"
    }
   ],
   "source": [
    "minuit_advanced = Minuit(chi2_object_advanced, pedantic=False, p0=0., p1=2.0, p2=0.0, p3=2.0, p4=0.5)\n",
    "minuit_advanced.migrad(); # fit"
   ]
  },
  {
   "cell_type": "markdown",
   "metadata": {},
   "source": [
    "Printing the fitted paramaters and their uncertainties:"
   ]
  },
  {
   "cell_type": "code",
   "execution_count": 45,
   "metadata": {},
   "outputs": [
    {
     "name": "stdout",
     "output_type": "stream",
     "text": [
      "Advanced fit\n",
      "Fit value: p0 = -2.04809 +/- 0.04181\n",
      "Fit value: p1 = -2.09316 +/- 0.09527\n",
      "Fit value: p2 = 1.01164 +/- 0.03688\n",
      "Fit value: p3 = 2.02506 +/- 0.05975\n",
      "Fit value: p4 = 0.59135 +/- 0.07479\n"
     ]
    }
   ],
   "source": [
    "p0, p1, p2, p3, p4 = minuit_advanced.args\n",
    "print(\"Advanced fit\")\n",
    "for name in minuit_advanced.parameters:\n",
    "    print(\"Fit value: {0} = {1:.5f} +/- {2:.5f}\".format(name, minuit_advanced.values[name], minuit_advanced.errors[name]))"
   ]
  },
  {
   "cell_type": "markdown",
   "metadata": {},
   "source": [
    "And plotting it on the data:"
   ]
  },
  {
   "cell_type": "code",
   "execution_count": 46,
   "metadata": {},
   "outputs": [
    {
     "data": {
      "image/png": "[encoded data removed]",
      "text/plain": [
       "<Figure size 864x432 with 1 Axes>"
      ]
     },
     "execution_count": 46,
     "metadata": {},
     "output_type": "execute_result"
    }
   ],
   "source": [
    "y_fit_advanced = func_advanced_vec(x_fit, p0, p1, p2, p3, p4 )\n",
    "ax2.plot(x_fit, y_fit_advanced, '-', label='Advanced fit')\n",
    "\n",
    "ax2.legend(loc='upper center')\n",
    "\n",
    "fig2"
   ]
  },
  {
   "cell_type": "markdown",
   "metadata": {},
   "source": [
    "***\n",
    "\n",
    "#### Advanced hint:\n",
    "\n",
    "If you have many parameters and don't want to write out all the names (like `p0`, `p1`, ..., and so on), you can write it the following way (which is called argument unpacking):\n",
    "``` \n",
    "p = minuit.args # save all the fitted parameters as the tuple p \n",
    "y_fit_advanced = func_advanced_vec(x_fit, *p) unpack all of the values in p to the function.\n",
    "``` \n",
    "***\n",
    "\n",
    "We also want to calculate the $\\chi^2$ value of the fit:"
   ]
  },
  {
   "cell_type": "code",
   "execution_count": 47,
   "metadata": {},
   "outputs": [],
   "source": [
    "chi2_val = 0\n",
    "for x_i, y_i, sy_i in zip(x, y, sy):\n",
    "    f = func_advanced( x_i, p0, p1, p2, p3, p4)\n",
    "    chi2_val += (y_i-f)**2 / sy_i**2"
   ]
  },
  {
   "cell_type": "markdown",
   "metadata": {},
   "source": [
    "And below in a optimized Numpy way:"
   ]
  },
  {
   "cell_type": "code",
   "execution_count": 48,
   "metadata": {},
   "outputs": [
    {
     "name": "stdout",
     "output_type": "stream",
     "text": [
      "41.58272292312254\n",
      "41.58272292312254\n",
      "True\n"
     ]
    }
   ],
   "source": [
    "f = func_advanced_vec(x, p0, p1, p2, p3, p4 )\n",
    "chi2_val_np = np.sum((y-f)**2 / sy**2)\n",
    "\n",
    "print(chi2_val)\n",
    "print(chi2_val_np)\n",
    "print(np.allclose(chi2_val, chi2_val_np))"
   ]
  },
  {
   "cell_type": "markdown",
   "metadata": {},
   "source": [
    "Do you recognize the number 41.58 from somewhere else? It is exactly the same number as `FCN` we got when we ran `minuit_advanced.migrad()` above. Therefore, in this case we could also just have gotten the number by: "
   ]
  },
  {
   "cell_type": "code",
   "execution_count": 49,
   "metadata": {},
   "outputs": [
    {
     "name": "stdout",
     "output_type": "stream",
     "text": [
      "41.58272292312255\n"
     ]
    }
   ],
   "source": [
    "chi2_val_fit = minuit_advanced.fval\n",
    "print(chi2_val_fit)"
   ]
  },
  {
   "cell_type": "markdown",
   "metadata": {},
   "source": [
    "We calculate the number of degrees of freedom:"
   ]
  },
  {
   "cell_type": "code",
   "execution_count": 50,
   "metadata": {},
   "outputs": [
    {
     "data": {
      "text/plain": [
       "46"
      ]
     },
     "execution_count": 50,
     "metadata": {},
     "output_type": "execute_result"
    }
   ],
   "source": [
    "N_DOF = Ndata - len(minuit_advanced.args)\n",
    "N_DOF"
   ]
  },
  {
   "cell_type": "markdown",
   "metadata": {},
   "source": [
    "Along with the $\\chi^2$ probability:"
   ]
  },
  {
   "cell_type": "code",
   "execution_count": 51,
   "metadata": {},
   "outputs": [
    {
     "data": {
      "text/plain": [
       "0.6576334206434578"
      ]
     },
     "execution_count": 51,
     "metadata": {},
     "output_type": "execute_result"
    }
   ],
   "source": [
    "chi2_prob =  stats.chi2.sf(chi2_val, N_DOF)\n",
    "chi2_prob"
   ]
  },
  {
   "cell_type": "markdown",
   "metadata": {},
   "source": [
    "and add the fit results to the plot:"
   ]
  },
  {
   "cell_type": "code",
   "execution_count": 52,
   "metadata": {},
   "outputs": [],
   "source": [
    "d = {'Entries':  Ndata,\n",
    "     'Chi2':     chi2_val,\n",
    "     'ndf':      N_DOF,\n",
    "     'Prob':     chi2_prob,\n",
    "    }\n",
    "\n",
    "for name in minuit_advanced.parameters:\n",
    "    d[name] = [minuit_advanced.values[name], minuit_advanced.errors[name]]"
   ]
  },
  {
   "cell_type": "code",
   "execution_count": 53,
   "metadata": {
    "lines_to_next_cell": 2
   },
   "outputs": [
    {
     "data": {
      "image/png": "[encoded data removed]",
      "text/plain": [
       "<Figure size 864x432 with 1 Axes>"
      ]
     },
     "execution_count": 53,
     "metadata": {},
     "output_type": "execute_result"
    }
   ],
   "source": [
    "text = nice_string_output(d, extra_spacing=2, decimals=3)\n",
    "add_text_to_ax(0.02, 0.95, text, ax2, fontsize=12)\n",
    "fig2.tight_layout()\n",
    "\n",
    "\n",
    "fig2"
   ]
  },
  {
   "cell_type": "markdown",
   "metadata": {},
   "source": [
    "and finally save the plot (if save_plots if True):"
   ]
  },
  {
   "cell_type": "code",
   "execution_count": 54,
   "metadata": {
    "lines_to_next_cell": 2
   },
   "outputs": [],
   "source": [
    "if save_plots:\n",
    "    fig2.savefig('Graph.pdf', dpi=600)"
   ]
  },
  {
   "cell_type": "markdown",
   "metadata": {},
   "source": [
    "*** \n",
    "\n",
    "In case you want to export the notebook to a normal python file (.py), you can uncomment the command below (but keep the \"`!`\") and run the cell. This exports the notebook to a Python file."
   ]
  },
  {
   "cell_type": "code",
   "execution_count": 55,
   "metadata": {},
   "outputs": [
    {
     "name": "stdout",
     "output_type": "stream",
     "text": [
      "[NbConvertApp] Converting notebook IntroToPlottingAndFitting.ipynb to script\n",
      "[NbConvertApp] Writing 25896 bytes to IntroToPlottingAndFitting.py\n"
     ]
    }
   ],
   "source": [
    "!jupyter nbconvert --to script IntroToPlottingAndFitting.ipynb"
   ]
  },
  {
   "cell_type": "markdown",
   "metadata": {},
   "source": [
    "(In the case that you want to convert back from .py to Notebook.ipynb file, run the following command:\n",
    "`jupyter nbconvert --to notebook IntroToPlottingAndFitting.py` in a terminal. In case you want to do it automatically in the Python script, add the line `os.system(\"jupyter nbconvert --to notebook IntroToPlottingAndFitting.py\")`"
   ]
  }
 ],
 "metadata": {
  "executable": "/usr/bin/env python",
  "kernelspec": {
   "display_name": "Python 3",
   "language": "python",
   "name": "python3"
  },
  "language_info": {
   "codemirror_mode": {
    "name": "ipython",
    "version": 3
   },
   "file_extension": ".py",
   "mimetype": "text/x-python",
   "name": "python",
   "nbconvert_exporter": "python",
   "pygments_lexer": "ipython3",
   "version": "3.7.4"
  },
  "main_language": "python"
 },
 "nbformat": 4,
 "nbformat_minor": 2
}
