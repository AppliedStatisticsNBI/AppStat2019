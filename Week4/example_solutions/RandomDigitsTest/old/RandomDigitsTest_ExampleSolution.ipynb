{
 "cells": [
  {
   "cell_type": "markdown",
   "metadata": {},
   "source": [
    "# Random Digits Exercice - Solutions\n",
    "\n",
    "Below is a series of tests that can be performed on any of the RandomDigits datasets of the exercice. Here are the _actual_ answers for 2018:\n",
    "\n",
    "* data_RandomDigits_100WithShift_2018 $\\rightarrow$ D\n",
    "* data_RandomDigits_7thCopiedFrom5before_2018.txt $\\rightarrow$ C\n",
    "* data_RandomDigits_TrulyRandom_2018.txt $\\rightarrow$ E\n",
    "* data_RandomDigits_Students_2018.txt $\\rightarrow$ A\n",
    "* data_RandomDigits_DigitsOfPi_2018.txt $\\rightarrow$ B\n",
    "* data_RandomDigits_IceCubedata_2018.txt $\\rightarrow$ F\n",
    "* data_RandomDigits_fourgaussians_2018.txt $\\rightarrow$ G\n",
    "\n",
    "\n",
    "##  Author: \n",
    "- Troels Petersen ([email](mailto:petersen@nbi.dk))\n",
    "- Étienne Bourbeau (notebook conversion) ([email](mailto:etienne.bourbeau@icecube.wisc.edu))\n",
    "\n",
    "##  Date:\n",
    "5th of December 2018\n",
    "\n",
    "---"
   ]
  },
  {
   "cell_type": "code",
   "execution_count": 1,
   "metadata": {
    "lines_to_next_cell": 2
   },
   "outputs": [],
   "source": [
    "#Load modules here\n",
    "import numpy as np                                     # Matlab like syntax for linear algebra and functions\n",
    "import matplotlib.pyplot as plt                        # Plots and figures like you know them from Matlab\n",
    "import matplotlib as mpl\n",
    "# Set som plotting standards\n",
    "font = {'family' : 'serif',\n",
    "        'weight' : 'normal',\n",
    "        'size'   : 18}\n",
    "\n",
    "mpl.rc('font', **font)\n",
    "\n",
    "from iminuit import Minuit                             # The actual fitting tool, better than scipy's\n",
    "from probfit import Chi2Regression                     # Helper tool for fitting\n",
    "from mpl_toolkits.axes_grid1 import make_axes_locatable\n",
    "from scipy import stats\n",
    "import os, sys                                         # Modules to see files and folders in directories\n",
    "from os.path import dirname as parent_folder\n"
   ]
  },
  {
   "cell_type": "code",
   "execution_count": 2,
   "metadata": {},
   "outputs": [],
   "source": [
    "sys.path.append('../External_Functions')\n",
    "from ExternalFunctions import nice_string_output, add_text_to_ax"
   ]
  },
  {
   "cell_type": "markdown",
   "metadata": {},
   "source": [
    "---\n",
    "## Define your functions here:\n"
   ]
  },
  {
   "cell_type": "code",
   "execution_count": 3,
   "metadata": {
    "lines_to_next_cell": 2
   },
   "outputs": [],
   "source": [
    "# Fill 1d histograms\n",
    "def create_1d_hist(ax, values, bins, x_range, title):\n",
    "    ax.hist(values, bins, x_range, histtype='step', normed=True, lw=2)         \n",
    "    ax.set(xlim=x_range, title=title)\n",
    "    hist_data = np.histogram(values, bins, x_range)\n",
    "    return hist_data"
   ]
  },
  {
   "cell_type": "code",
   "execution_count": 4,
   "metadata": {
    "lines_to_next_cell": 2
   },
   "outputs": [],
   "source": [
    "# Fill 2d histograms\n",
    "def create_2d_hist(ax, values1, values2, bins, x_range, y_range, title, figure):\n",
    "    hist2d = ax.hist2d(values1, values2, bins=bins, range=[x_range, y_range], normed=True)           \n",
    "    ax.set(xlim=x_range, ylim=y_range, title=title)\n",
    "    divider = make_axes_locatable(ax)\n",
    "    cax = divider.append_axes('right', size='5%', pad=0.05)\n",
    "    figure.colorbar(hist2d[3], cax=cax, orientation='vertical')\n",
    "    hist_data = np.histogram2d(values1, values2, bins, range=[x_range, y_range])\n",
    "    return hist_data"
   ]
  },
  {
   "cell_type": "code",
   "execution_count": 5,
   "metadata": {
    "lines_to_next_cell": 2
   },
   "outputs": [],
   "source": [
    "def get_chi2_ndf( hist, const):\n",
    "    data = hist[0]\n",
    "    const_unnormed = const * data.sum()\n",
    "    chi2 = np.sum( (data - const_unnormed)**2 / data )\n",
    "    ndof = data.size\n",
    "    return chi2, ndof"
   ]
  },
  {
   "cell_type": "code",
   "execution_count": 6,
   "metadata": {
    "lines_to_next_cell": 2
   },
   "outputs": [],
   "source": [
    "def constant_fit(x, c):\n",
    "    return c"
   ]
  },
  {
   "cell_type": "code",
   "execution_count": 7,
   "metadata": {},
   "outputs": [],
   "source": [
    "def fit_1d_histogram_with_constant(hist, input_data, ax):\n",
    "    \n",
    "    counts, x_edges = hist\n",
    "    x_centers = 0.5*(x_edges[1:] + x_edges[:-1])\n",
    "    \n",
    "    x = x_centers\n",
    "    y = counts\n",
    "    sy = np.sqrt(y)\n",
    "\n",
    "    \n",
    "    chi2_object = Chi2Regression(constant_fit, x, y, sy)\n",
    "    minuit = Minuit(chi2_object, pedantic=False)\n",
    "    minuit.migrad() # fit\n",
    "    \n",
    "    fit_c = minuit.values['c']\n",
    "    fit_sc = minuit.errors['c']\n",
    "    chi2_val = minuit.fval\n",
    "    N_DOF = len(y) - 1\n",
    "    chi2_prob = stats.chi2.sf(chi2_val, N_DOF)\n",
    "    \n",
    "    d= {'Entries' : \"{:d}\".format(len(input_data)),\n",
    "        'Mean'    : \"{:.5f}\".format(input_data.mean()),\n",
    "        'STD Dev' : \"{:.5f}\".format(input_data.std(ddof=1)),\n",
    "        'Chi2/ndf': \"{:.3f} +/- {:2d}\".format(chi2_val, N_DOF),\n",
    "        'Prob'    : \"{:.3f}\".format(chi2_prob),\n",
    "        'c'       :\"{:.2f} +/- {:.2f}\".format(fit_c, fit_sc)\n",
    "       }\n",
    "    \n",
    "    ax.text(0.06, 0.40, nice_string_output(d),\n",
    "        family='monospace',\n",
    "        transform=ax.transAxes, fontsize=9,\n",
    "        verticalalignment='top')"
   ]
  },
  {
   "cell_type": "markdown",
   "metadata": {},
   "source": [
    "---\n",
    "## Import random numbers from text file:"
   ]
  },
  {
   "cell_type": "code",
   "execution_count": 8,
   "metadata": {},
   "outputs": [],
   "source": [
    "# Define list of input files\n",
    "infiles = [\"../Week4/RandomDigitsTest/data_RandomDigits2018_D.txt\" ]"
   ]
  },
  {
   "cell_type": "code",
   "execution_count": 9,
   "metadata": {},
   "outputs": [],
   "source": [
    "# List containing all numbers\n",
    "numbers = []"
   ]
  },
  {
   "cell_type": "code",
   "execution_count": 10,
   "metadata": {},
   "outputs": [],
   "source": [
    "# Loop over input files open them in read mode\n",
    "for ifile in infiles : \n",
    "    with open( ifile, \"r\" ) as current_file : \n",
    "        # Extract current file info : loop through each line in the file, loop through each character\n",
    "        # in the line, demand character is not empty (\"\") and convert the result to an integer\n",
    "        # Finally add result to the numbers list\n",
    "        numbers += [int(char) for line in current_file for char in line.strip() if char is not \"\"]"
   ]
  },
  {
   "cell_type": "code",
   "execution_count": 11,
   "metadata": {
    "lines_to_next_cell": 2
   },
   "outputs": [],
   "source": [
    "numbers = np.array(numbers)"
   ]
  },
  {
   "cell_type": "markdown",
   "metadata": {},
   "source": [
    "---\n",
    "## Define your output:"
   ]
  },
  {
   "cell_type": "code",
   "execution_count": 12,
   "metadata": {},
   "outputs": [],
   "source": [
    "plt.ioff()\n",
    "fig, ax = plt.subplots(nrows=2, ncols=3, figsize=(15, 10))\n",
    "ax_number, ax_odd_even, ax_high_low, ax_corr_number, ax_corr_odd_even, ax_corr_high_low = ax.flatten()"
   ]
  },
  {
   "cell_type": "code",
   "execution_count": 13,
   "metadata": {},
   "outputs": [
    {
     "name": "stderr",
     "output_type": "stream",
     "text": [
      "/opt/conda/envs/python3/lib/python3.6/site-packages/matplotlib/axes/_axes.py:6521: MatplotlibDeprecationWarning: \n",
      "The 'normed' kwarg was deprecated in Matplotlib 2.1 and will be removed in 3.1. Use 'density' instead.\n",
      "  alternative=\"'density'\", removal=\"3.1\")\n"
     ]
    }
   ],
   "source": [
    "# Fill 1d histograms:\n",
    "hist_numbers  = create_1d_hist(ax_number,   numbers,     10, (-0.5, 9.5), 'Numbers posted')                # Plot all digits\n",
    "hist_odd_even = create_1d_hist(ax_odd_even, numbers % 2,  2, (-0.5, 1.5), 'Even and odd numbers')          # Is number even or odd\n",
    "hist_high_low = create_1d_hist(ax_high_low, numbers // 5, 2, (-0.5, 1.5), 'Above and equal to or below 5') # Is number >= or < 5"
   ]
  },
  {
   "cell_type": "code",
   "execution_count": 14,
   "metadata": {},
   "outputs": [],
   "source": [
    "# Fill 2d histograms:\n",
    "corr_number = create_2d_hist(ax_corr_number,   numbers[1:], numbers[:-1], [10, 10], \n",
    "               [-0.5, 9.5], [-0.5, 9.5], 'Correlation to previous number', fig)\n",
    "corr_odd_even = create_2d_hist(ax_corr_odd_even, numbers[1:] % 2, numbers[:-1] % 2, [2, 2], \n",
    "               [-0.5, 1.5], [-0.5, 1.5], 'Correlation to last high/low number', fig)\n",
    "corr_high_low = create_2d_hist(ax_corr_high_low, numbers[1:] // 5, numbers[:-1] // 5, [2, 2], \n",
    "               [-0.5, 1.5], [-0.5, 1.5], 'Correlation to last high/low number', fig)"
   ]
  },
  {
   "cell_type": "code",
   "execution_count": 15,
   "metadata": {
    "lines_to_next_cell": 2
   },
   "outputs": [
    {
     "data": {
      "image/png": "[encoded data removed]",
      "text/plain": [
       "<Figure size 1080x720 with 9 Axes>"
      ]
     },
     "execution_count": 15,
     "metadata": {},
     "output_type": "execute_result"
    }
   ],
   "source": [
    "fig.tight_layout()\n",
    "fig"
   ]
  },
  {
   "cell_type": "markdown",
   "metadata": {},
   "source": [
    "---\n",
    "## Calculate the $\\chi^{2}$ given a constant value (Constant is not a free parameter here)"
   ]
  },
  {
   "cell_type": "code",
   "execution_count": 16,
   "metadata": {},
   "outputs": [],
   "source": [
    "chi2_ndf_number_hist   = get_chi2_ndf( hist_numbers,  1.0 / 10)\n",
    "chi2_ndf_odd_even_hist = get_chi2_ndf( hist_odd_even, 1.0 / 2 )\n",
    "chi2_ndf_high_low_hist = get_chi2_ndf( hist_high_low, 1.0 / 2 )"
   ]
  },
  {
   "cell_type": "code",
   "execution_count": 17,
   "metadata": {},
   "outputs": [],
   "source": [
    "chi2_ndf_number_corr   = get_chi2_ndf( corr_number  , 1.0 / 10**2, )\n",
    "chi2_ndf_odd_even_corr = get_chi2_ndf( corr_odd_even, 1.0 / 2**2   )\n",
    "chi2_ndf_high_low_corr = get_chi2_ndf( corr_high_low, 1.0 / 2**2   )"
   ]
  },
  {
   "cell_type": "code",
   "execution_count": 18,
   "metadata": {},
   "outputs": [],
   "source": [
    "# Offset to number of degrees of freedom (choosing if the overall number of events is know, which I would say it is):\n",
    "dNdof = 0"
   ]
  },
  {
   "cell_type": "code",
   "execution_count": 19,
   "metadata": {},
   "outputs": [
    {
     "name": "stdout",
     "output_type": "stream",
     "text": [
      "Compatability that distributions stem from random numbers : \n",
      "Raw numbers                : Chi^2/NDF =   7.37 /  10.00 -> P(Chi2, NDF) = 0.69036442\n",
      "Raw numbers correlation    : Chi^2/NDF = 775.94 / 100.00 -> P(Chi2, NDF) = 0.00000000\n",
      "Odd even                   : Chi^2/NDF =   0.13 /   2.00 -> P(Chi2, NDF) = 0.93599371\n",
      "Odd even correlation       : Chi^2/NDF =   0.91 /   4.00 -> P(Chi2, NDF) = 0.92310547\n",
      "High Low                   : Chi^2/NDF =   0.18 /   2.00 -> P(Chi2, NDF) = 0.91570075\n",
      "High Low correlation       : Chi^2/NDF =  48.92 /   4.00 -> P(Chi2, NDF) = 0.00000000\n"
     ]
    }
   ],
   "source": [
    "# Write your result : \n",
    "print(\"Compatability that distributions stem from random numbers : \")\n",
    "print(\"Raw numbers                : Chi^2/NDF = {:6.2f} / {:6.2f} -> P(Chi2, NDF) = {:10.8f}\".format(chi2_ndf_number_hist[0], chi2_ndf_number_hist[1]-dNdof, \n",
    "                                                                                           stats.chi2.sf(chi2_ndf_number_hist[0], chi2_ndf_number_hist[1]-dNdof)))\n",
    "print(\"Raw numbers correlation    : Chi^2/NDF = {:6.2f} / {:6.2f} -> P(Chi2, NDF) = {:10.8f}\".format(chi2_ndf_number_corr[0], chi2_ndf_number_corr[1]-dNdof, \n",
    "                                                                                           stats.chi2.sf(chi2_ndf_number_corr[0], chi2_ndf_number_corr[1]-dNdof)))\n",
    "print(\"Odd even                   : Chi^2/NDF = {:6.2f} / {:6.2f} -> P(Chi2, NDF) = {:10.8f}\".format(chi2_ndf_odd_even_hist[0], chi2_ndf_odd_even_hist[1]-dNdof, \n",
    "                                                                                           stats.chi2.sf(chi2_ndf_odd_even_hist[0], chi2_ndf_odd_even_hist[1]-dNdof)))\n",
    "print(\"Odd even correlation       : Chi^2/NDF = {:6.2f} / {:6.2f} -> P(Chi2, NDF) = {:10.8f}\".format(chi2_ndf_odd_even_corr[0], chi2_ndf_odd_even_corr[1]-dNdof, \n",
    "                                                                                           stats.chi2.sf(chi2_ndf_odd_even_corr[0], chi2_ndf_odd_even_corr[1]-dNdof)))\n",
    "print(\"High Low                   : Chi^2/NDF = {:6.2f} / {:6.2f} -> P(Chi2, NDF) = {:10.8f}\".format(chi2_ndf_high_low_hist[0], chi2_ndf_high_low_hist[1]-dNdof, \n",
    "                                                                                           stats.chi2.sf(chi2_ndf_high_low_hist[0], chi2_ndf_high_low_hist[1]-dNdof)))\n",
    "print(\"High Low correlation       : Chi^2/NDF = {:6.2f} / {:6.2f} -> P(Chi2, NDF) = {:10.8f}\".format(chi2_ndf_high_low_corr[0], chi2_ndf_high_low_corr[1]-dNdof, \n",
    "                                                                                           stats.chi2.sf(chi2_ndf_high_low_corr[0], chi2_ndf_high_low_corr[1]-dNdof)))"
   ]
  },
  {
   "cell_type": "code",
   "execution_count": 20,
   "metadata": {
    "lines_to_next_cell": 2
   },
   "outputs": [
    {
     "data": {
      "text/html": [
       "<hr>"
      ]
     },
     "metadata": {},
     "output_type": "display_data"
    },
    {
     "data": {
      "text/html": [
       "<table>\n",
       "    <tr>\n",
       "        <td title=\"Minimum value of function\">FCN = 7.356791204392275</td>\n",
       "        <td title=\"Total number of call to FCN so far\">TOTAL NCALL = 15</td>\n",
       "        <td title=\"Number of call in last migrad\">NCALLS = 15</td>\n",
       "    </tr>\n",
       "    <tr>\n",
       "        <td title=\"Estimated distance to minimum\">EDM = 1.1338711392750478e-16</td>\n",
       "        <td title=\"Maximum EDM definition of convergence\">GOAL EDM = 1e-05</td>\n",
       "        <td title=\"Error def. Amount of increase in FCN to be defined as 1 standard deviation\">\n",
       "        UP = 1.0</td>\n",
       "    </tr>\n",
       "</table>\n",
       "<table>\n",
       "    <tr>\n",
       "        <td align=\"center\" title=\"Validity of the migrad call\">Valid</td>\n",
       "        <td align=\"center\" title=\"Validity of parameters\">Valid Param</td>\n",
       "        <td align=\"center\" title=\"Is Covariance matrix accurate?\">Accurate Covar</td>\n",
       "        <td align=\"center\" title=\"Positive definiteness of covariance matrix\">PosDef</td>\n",
       "        <td align=\"center\" title=\"Was covariance matrix made posdef by adding diagonal element\">Made PosDef</td>\n",
       "    </tr>\n",
       "    <tr>\n",
       "        <td align=\"center\" style=\"background-color:#92CCA6\">True</td>\n",
       "        <td align=\"center\" style=\"background-color:#92CCA6\">True</td>\n",
       "        <td align=\"center\" style=\"background-color:#92CCA6\">True</td>\n",
       "        <td align=\"center\" style=\"background-color:#92CCA6\">True</td>\n",
       "        <td align=\"center\" style=\"background-color:#92CCA6\">False</td>\n",
       "    </tr>\n",
       "    <tr>\n",
       "        <td align=\"center\" title=\"Was last hesse call fail?\">Hesse Fail</td>\n",
       "        <td align=\"center\" title=\"Validity of covariance\">HasCov</td>\n",
       "        <td align=\"center\" title=\"Is EDM above goal EDM?\">Above EDM</td>\n",
       "        <td align=\"center\"></td>\n",
       "        <td align=\"center\" title=\"Did last migrad call reach max call limit?\">Reach calllim</td>\n",
       "    </tr>\n",
       "    <tr>\n",
       "        <td align=\"center\" style=\"background-color:#92CCA6\">False</td>\n",
       "        <td align=\"center\" style=\"background-color:#92CCA6\">True</td>\n",
       "        <td align=\"center\" style=\"background-color:#92CCA6\">False</td>\n",
       "        <td align=\"center\"></td>\n",
       "        <td align=\"center\" style=\"background-color:#92CCA6\">False</td>\n",
       "    </tr>\n",
       "</table>"
      ]
     },
     "metadata": {},
     "output_type": "display_data"
    },
    {
     "data": {
      "text/html": [
       "<table>\n",
       "    <tr>\n",
       "        <td><a href=\"#\" onclick=\"$('#IIWLIgjTxu').toggle()\">+</a></td>\n",
       "        <td title=\"Variable name\">Name</td>\n",
       "        <td title=\"Value of parameter\">Value</td>\n",
       "        <td title=\"Hesse error\">Hesse Error</td>\n",
       "        <td title=\"Minos lower error\">Minos Error-</td>\n",
       "        <td title=\"Minos upper error\">Minos Error+</td>\n",
       "        <td title=\"Lower limit of the parameter\">Limit-</td>\n",
       "        <td title=\"Upper limit of the parameter\">Limit+</td>\n",
       "        <td title=\"Is the parameter fixed in the fit\">Fixed?</td>\n",
       "    </tr>\n",
       "    <tr>\n",
       "        <td>0</td>\n",
       "        <td>c</td>\n",
       "        <td>510.264</td>\n",
       "        <td>7.14328</td>\n",
       "        <td></td>\n",
       "        <td></td>\n",
       "        <td></td>\n",
       "        <td></td>\n",
       "        <td>No</td>\n",
       "    </tr>\n",
       "</table>\n",
       "<pre id=\"IIWLIgjTxu\" style=\"display:none;\">\n",
       "<textarea rows=\"8\" cols=\"50\" onclick=\"this.select()\" readonly>\n",
       "\\begin{tabular}{|c|r|r|r|r|r|r|r|c|}\n",
       "\\hline\n",
       " & Name & Value & Hesse Error & Minos Error- & Minos Error+ & Limit- & Limit+ & Fixed?\\\\\n",
       "\\hline\n",
       "0 & c & 510.264 & 7.14328 &  &  &  &  & No\\\\\n",
       "\\hline\n",
       "\\end{tabular}\n",
       "</textarea>\n",
       "</pre>"
      ]
     },
     "metadata": {},
     "output_type": "display_data"
    },
    {
     "data": {
      "text/html": [
       "<hr>"
      ]
     },
     "metadata": {},
     "output_type": "display_data"
    },
    {
     "data": {
      "text/html": [
       "<hr>"
      ]
     },
     "metadata": {},
     "output_type": "display_data"
    },
    {
     "data": {
      "text/html": [
       "<table>\n",
       "    <tr>\n",
       "        <td title=\"Minimum value of function\">FCN = 0.13228962818004414</td>\n",
       "        <td title=\"Total number of call to FCN so far\">TOTAL NCALL = 15</td>\n",
       "        <td title=\"Number of call in last migrad\">NCALLS = 15</td>\n",
       "    </tr>\n",
       "    <tr>\n",
       "        <td title=\"Estimated distance to minimum\">EDM = 5.001420396775605e-15</td>\n",
       "        <td title=\"Maximum EDM definition of convergence\">GOAL EDM = 1e-05</td>\n",
       "        <td title=\"Error def. Amount of increase in FCN to be defined as 1 standard deviation\">\n",
       "        UP = 1.0</td>\n",
       "    </tr>\n",
       "</table>\n",
       "<table>\n",
       "    <tr>\n",
       "        <td align=\"center\" title=\"Validity of the migrad call\">Valid</td>\n",
       "        <td align=\"center\" title=\"Validity of parameters\">Valid Param</td>\n",
       "        <td align=\"center\" title=\"Is Covariance matrix accurate?\">Accurate Covar</td>\n",
       "        <td align=\"center\" title=\"Positive definiteness of covariance matrix\">PosDef</td>\n",
       "        <td align=\"center\" title=\"Was covariance matrix made posdef by adding diagonal element\">Made PosDef</td>\n",
       "    </tr>\n",
       "    <tr>\n",
       "        <td align=\"center\" style=\"background-color:#92CCA6\">True</td>\n",
       "        <td align=\"center\" style=\"background-color:#92CCA6\">True</td>\n",
       "        <td align=\"center\" style=\"background-color:#92CCA6\">True</td>\n",
       "        <td align=\"center\" style=\"background-color:#92CCA6\">True</td>\n",
       "        <td align=\"center\" style=\"background-color:#92CCA6\">False</td>\n",
       "    </tr>\n",
       "    <tr>\n",
       "        <td align=\"center\" title=\"Was last hesse call fail?\">Hesse Fail</td>\n",
       "        <td align=\"center\" title=\"Validity of covariance\">HasCov</td>\n",
       "        <td align=\"center\" title=\"Is EDM above goal EDM?\">Above EDM</td>\n",
       "        <td align=\"center\"></td>\n",
       "        <td align=\"center\" title=\"Did last migrad call reach max call limit?\">Reach calllim</td>\n",
       "    </tr>\n",
       "    <tr>\n",
       "        <td align=\"center\" style=\"background-color:#92CCA6\">False</td>\n",
       "        <td align=\"center\" style=\"background-color:#92CCA6\">True</td>\n",
       "        <td align=\"center\" style=\"background-color:#92CCA6\">False</td>\n",
       "        <td align=\"center\"></td>\n",
       "        <td align=\"center\" style=\"background-color:#92CCA6\">False</td>\n",
       "    </tr>\n",
       "</table>"
      ]
     },
     "metadata": {},
     "output_type": "display_data"
    },
    {
     "data": {
      "text/html": [
       "<table>\n",
       "    <tr>\n",
       "        <td><a href=\"#\" onclick=\"$('#MXyUJlzAiL').toggle()\">+</a></td>\n",
       "        <td title=\"Variable name\">Name</td>\n",
       "        <td title=\"Value of parameter\">Value</td>\n",
       "        <td title=\"Hesse error\">Hesse Error</td>\n",
       "        <td title=\"Minos lower error\">Minos Error-</td>\n",
       "        <td title=\"Minos upper error\">Minos Error+</td>\n",
       "        <td title=\"Lower limit of the parameter\">Limit-</td>\n",
       "        <td title=\"Upper limit of the parameter\">Limit+</td>\n",
       "        <td title=\"Is the parameter fixed in the fit\">Fixed?</td>\n",
       "    </tr>\n",
       "    <tr>\n",
       "        <td>0</td>\n",
       "        <td>c</td>\n",
       "        <td>2554.93</td>\n",
       "        <td>35.7417</td>\n",
       "        <td></td>\n",
       "        <td></td>\n",
       "        <td></td>\n",
       "        <td></td>\n",
       "        <td>No</td>\n",
       "    </tr>\n",
       "</table>\n",
       "<pre id=\"MXyUJlzAiL\" style=\"display:none;\">\n",
       "<textarea rows=\"8\" cols=\"50\" onclick=\"this.select()\" readonly>\n",
       "\\begin{tabular}{|c|r|r|r|r|r|r|r|c|}\n",
       "\\hline\n",
       " & Name & Value & Hesse Error & Minos Error- & Minos Error+ & Limit- & Limit+ & Fixed?\\\\\n",
       "\\hline\n",
       "0 & c & 2554.93 & 35.7417 &  &  &  &  & No\\\\\n",
       "\\hline\n",
       "\\end{tabular}\n",
       "</textarea>\n",
       "</pre>"
      ]
     },
     "metadata": {},
     "output_type": "display_data"
    },
    {
     "data": {
      "text/html": [
       "<hr>"
      ]
     },
     "metadata": {},
     "output_type": "display_data"
    },
    {
     "data": {
      "text/html": [
       "<hr>"
      ]
     },
     "metadata": {},
     "output_type": "display_data"
    },
    {
     "data": {
      "text/html": [
       "<table>\n",
       "    <tr>\n",
       "        <td title=\"Minimum value of function\">FCN = 0.17612524461845658</td>\n",
       "        <td title=\"Total number of call to FCN so far\">TOTAL NCALL = 15</td>\n",
       "        <td title=\"Number of call in last migrad\">NCALLS = 15</td>\n",
       "    </tr>\n",
       "    <tr>\n",
       "        <td title=\"Estimated distance to minimum\">EDM = 6.127538424683482e-14</td>\n",
       "        <td title=\"Maximum EDM definition of convergence\">GOAL EDM = 1e-05</td>\n",
       "        <td title=\"Error def. Amount of increase in FCN to be defined as 1 standard deviation\">\n",
       "        UP = 1.0</td>\n",
       "    </tr>\n",
       "</table>\n",
       "<table>\n",
       "    <tr>\n",
       "        <td align=\"center\" title=\"Validity of the migrad call\">Valid</td>\n",
       "        <td align=\"center\" title=\"Validity of parameters\">Valid Param</td>\n",
       "        <td align=\"center\" title=\"Is Covariance matrix accurate?\">Accurate Covar</td>\n",
       "        <td align=\"center\" title=\"Positive definiteness of covariance matrix\">PosDef</td>\n",
       "        <td align=\"center\" title=\"Was covariance matrix made posdef by adding diagonal element\">Made PosDef</td>\n",
       "    </tr>\n",
       "    <tr>\n",
       "        <td align=\"center\" style=\"background-color:#92CCA6\">True</td>\n",
       "        <td align=\"center\" style=\"background-color:#92CCA6\">True</td>\n",
       "        <td align=\"center\" style=\"background-color:#92CCA6\">True</td>\n",
       "        <td align=\"center\" style=\"background-color:#92CCA6\">True</td>\n",
       "        <td align=\"center\" style=\"background-color:#92CCA6\">False</td>\n",
       "    </tr>\n",
       "    <tr>\n",
       "        <td align=\"center\" title=\"Was last hesse call fail?\">Hesse Fail</td>\n",
       "        <td align=\"center\" title=\"Validity of covariance\">HasCov</td>\n",
       "        <td align=\"center\" title=\"Is EDM above goal EDM?\">Above EDM</td>\n",
       "        <td align=\"center\"></td>\n",
       "        <td align=\"center\" title=\"Did last migrad call reach max call limit?\">Reach calllim</td>\n",
       "    </tr>\n",
       "    <tr>\n",
       "        <td align=\"center\" style=\"background-color:#92CCA6\">False</td>\n",
       "        <td align=\"center\" style=\"background-color:#92CCA6\">True</td>\n",
       "        <td align=\"center\" style=\"background-color:#92CCA6\">False</td>\n",
       "        <td align=\"center\"></td>\n",
       "        <td align=\"center\" style=\"background-color:#92CCA6\">False</td>\n",
       "    </tr>\n",
       "</table>"
      ]
     },
     "metadata": {},
     "output_type": "display_data"
    },
    {
     "data": {
      "text/html": [
       "<table>\n",
       "    <tr>\n",
       "        <td><a href=\"#\" onclick=\"$('#XBCawvMsFJ').toggle()\">+</a></td>\n",
       "        <td title=\"Variable name\">Name</td>\n",
       "        <td title=\"Value of parameter\">Value</td>\n",
       "        <td title=\"Hesse error\">Hesse Error</td>\n",
       "        <td title=\"Minos lower error\">Minos Error-</td>\n",
       "        <td title=\"Minos upper error\">Minos Error+</td>\n",
       "        <td title=\"Lower limit of the parameter\">Limit-</td>\n",
       "        <td title=\"Upper limit of the parameter\">Limit+</td>\n",
       "        <td title=\"Is the parameter fixed in the fit\">Fixed?</td>\n",
       "    </tr>\n",
       "    <tr>\n",
       "        <td>0</td>\n",
       "        <td>c</td>\n",
       "        <td>2554.91</td>\n",
       "        <td>35.7415</td>\n",
       "        <td></td>\n",
       "        <td></td>\n",
       "        <td></td>\n",
       "        <td></td>\n",
       "        <td>No</td>\n",
       "    </tr>\n",
       "</table>\n",
       "<pre id=\"XBCawvMsFJ\" style=\"display:none;\">\n",
       "<textarea rows=\"8\" cols=\"50\" onclick=\"this.select()\" readonly>\n",
       "\\begin{tabular}{|c|r|r|r|r|r|r|r|c|}\n",
       "\\hline\n",
       " & Name & Value & Hesse Error & Minos Error- & Minos Error+ & Limit- & Limit+ & Fixed?\\\\\n",
       "\\hline\n",
       "0 & c & 2554.91 & 35.7415 &  &  &  &  & No\\\\\n",
       "\\hline\n",
       "\\end{tabular}\n",
       "</textarea>\n",
       "</pre>"
      ]
     },
     "metadata": {},
     "output_type": "display_data"
    },
    {
     "data": {
      "text/html": [
       "<hr>"
      ]
     },
     "metadata": {},
     "output_type": "display_data"
    }
   ],
   "source": [
    "fit_1d_histogram_with_constant(hist_numbers,  numbers,      ax_number)\n",
    "fit_1d_histogram_with_constant(hist_odd_even, numbers % 2,  ax_odd_even)\n",
    "fit_1d_histogram_with_constant(hist_high_low, numbers // 5, ax_high_low)"
   ]
  },
  {
   "cell_type": "markdown",
   "metadata": {},
   "source": [
    "---\n",
    "## Test for sequences using Poisson hypothesis (for Nseq = 2, 3, and 4):"
   ]
  },
  {
   "cell_type": "code",
   "execution_count": 21,
   "metadata": {},
   "outputs": [],
   "source": [
    "# Poisson:\n",
    "# -------------\n",
    "def func_Poisson(x, N, lamb) :\n",
    "    if (x > -0.5) :\n",
    "        return N * stats.poisson.pmf(x, lamb)\n",
    "    else : \n",
    "        return 0.0"
   ]
  },
  {
   "cell_type": "code",
   "execution_count": 22,
   "metadata": {
    "lines_to_next_cell": 2
   },
   "outputs": [],
   "source": [
    "# Making the function capable of taking an array, and returning\n",
    "# a corresponding array with the function values:\n",
    "func_Poisson_vec = np.vectorize(func_Poisson)"
   ]
  },
  {
   "cell_type": "code",
   "execution_count": 23,
   "metadata": {},
   "outputs": [],
   "source": [
    "# Count how many of each sequency:\n",
    "# (e.g. for sequences of length 3 there are 1000 posibilities, which are then\n",
    "#  counted in a histogram spanning 1000 bins. This works for all seqence lengths!)\n",
    "# ------------------------------------------------------------------------ #\n",
    "seq = []\n",
    "for i in range(-2, len(numbers)-2) : \n",
    "    seq.append(100*numbers[i] + 10*numbers[i+1] + numbers[i+2])\n",
    "seq = np.array(seq)"
   ]
  },
  {
   "cell_type": "code",
   "execution_count": 24,
   "metadata": {},
   "outputs": [],
   "source": [
    "poisson_counts, _ = np.histogram(seq, 1000, range=(-0.5, 999.5))"
   ]
  },
  {
   "cell_type": "code",
   "execution_count": 25,
   "metadata": {},
   "outputs": [],
   "source": [
    "# Note the binning, which is made to match integers in a range:\n",
    "#Nbins = 2001\n",
    "#xmin, xmax = -0.5, 2000.5\n",
    "Nbins = 21\n",
    "xmin, xmax = -0.5, 20.5"
   ]
  },
  {
   "cell_type": "code",
   "execution_count": 26,
   "metadata": {},
   "outputs": [],
   "source": [
    "fig3, ax3 = plt.subplots(figsize=(8,6))\n",
    "hist_poisson3 = ax3.hist(poisson_counts, Nbins, range=(xmin, xmax))"
   ]
  },
  {
   "cell_type": "code",
   "execution_count": 27,
   "metadata": {},
   "outputs": [],
   "source": [
    "counts, x_edges, _ = hist_poisson3\n",
    "x_centers = 0.5*(x_edges[1:] + x_edges[:-1])"
   ]
  },
  {
   "cell_type": "code",
   "execution_count": 28,
   "metadata": {},
   "outputs": [],
   "source": [
    "x = x_centers[counts>0]\n",
    "y = counts[counts>0]\n",
    "sy = np.sqrt(y)"
   ]
  },
  {
   "cell_type": "code",
   "execution_count": 29,
   "metadata": {},
   "outputs": [
    {
     "data": {
      "text/html": [
       "<hr>"
      ]
     },
     "metadata": {},
     "output_type": "display_data"
    },
    {
     "data": {
      "text/html": [
       "<table>\n",
       "    <tr>\n",
       "        <td title=\"Minimum value of function\">FCN = 595.3587781409869</td>\n",
       "        <td title=\"Total number of call to FCN so far\">TOTAL NCALL = 48</td>\n",
       "        <td title=\"Number of call in last migrad\">NCALLS = 48</td>\n",
       "    </tr>\n",
       "    <tr>\n",
       "        <td title=\"Estimated distance to minimum\">EDM = 1.5872783143146913e-06</td>\n",
       "        <td title=\"Maximum EDM definition of convergence\">GOAL EDM = 1e-05</td>\n",
       "        <td title=\"Error def. Amount of increase in FCN to be defined as 1 standard deviation\">\n",
       "        UP = 1.0</td>\n",
       "    </tr>\n",
       "</table>\n",
       "<table>\n",
       "    <tr>\n",
       "        <td align=\"center\" title=\"Validity of the migrad call\">Valid</td>\n",
       "        <td align=\"center\" title=\"Validity of parameters\">Valid Param</td>\n",
       "        <td align=\"center\" title=\"Is Covariance matrix accurate?\">Accurate Covar</td>\n",
       "        <td align=\"center\" title=\"Positive definiteness of covariance matrix\">PosDef</td>\n",
       "        <td align=\"center\" title=\"Was covariance matrix made posdef by adding diagonal element\">Made PosDef</td>\n",
       "    </tr>\n",
       "    <tr>\n",
       "        <td align=\"center\" style=\"background-color:#92CCA6\">True</td>\n",
       "        <td align=\"center\" style=\"background-color:#92CCA6\">True</td>\n",
       "        <td align=\"center\" style=\"background-color:#92CCA6\">True</td>\n",
       "        <td align=\"center\" style=\"background-color:#92CCA6\">True</td>\n",
       "        <td align=\"center\" style=\"background-color:#92CCA6\">False</td>\n",
       "    </tr>\n",
       "    <tr>\n",
       "        <td align=\"center\" title=\"Was last hesse call fail?\">Hesse Fail</td>\n",
       "        <td align=\"center\" title=\"Validity of covariance\">HasCov</td>\n",
       "        <td align=\"center\" title=\"Is EDM above goal EDM?\">Above EDM</td>\n",
       "        <td align=\"center\"></td>\n",
       "        <td align=\"center\" title=\"Did last migrad call reach max call limit?\">Reach calllim</td>\n",
       "    </tr>\n",
       "    <tr>\n",
       "        <td align=\"center\" style=\"background-color:#92CCA6\">False</td>\n",
       "        <td align=\"center\" style=\"background-color:#92CCA6\">True</td>\n",
       "        <td align=\"center\" style=\"background-color:#92CCA6\">False</td>\n",
       "        <td align=\"center\"></td>\n",
       "        <td align=\"center\" style=\"background-color:#92CCA6\">False</td>\n",
       "    </tr>\n",
       "</table>"
      ]
     },
     "metadata": {},
     "output_type": "display_data"
    },
    {
     "data": {
      "text/html": [
       "<table>\n",
       "    <tr>\n",
       "        <td><a href=\"#\" onclick=\"$('#kCRahmNjHN').toggle()\">+</a></td>\n",
       "        <td title=\"Variable name\">Name</td>\n",
       "        <td title=\"Value of parameter\">Value</td>\n",
       "        <td title=\"Hesse error\">Hesse Error</td>\n",
       "        <td title=\"Minos lower error\">Minos Error-</td>\n",
       "        <td title=\"Minos upper error\">Minos Error+</td>\n",
       "        <td title=\"Lower limit of the parameter\">Limit-</td>\n",
       "        <td title=\"Upper limit of the parameter\">Limit+</td>\n",
       "        <td title=\"Is the parameter fixed in the fit\">Fixed?</td>\n",
       "    </tr>\n",
       "    <tr>\n",
       "        <td>0</td>\n",
       "        <td>N</td>\n",
       "        <td>390.638</td>\n",
       "        <td>19.7651</td>\n",
       "        <td></td>\n",
       "        <td></td>\n",
       "        <td></td>\n",
       "        <td></td>\n",
       "        <td>No</td>\n",
       "    </tr>\n",
       "    <tr>\n",
       "        <td>1</td>\n",
       "        <td>lamb</td>\n",
       "        <td>7.20828</td>\n",
       "        <td>0.180367</td>\n",
       "        <td></td>\n",
       "        <td></td>\n",
       "        <td></td>\n",
       "        <td></td>\n",
       "        <td>No</td>\n",
       "    </tr>\n",
       "</table>\n",
       "<pre id=\"kCRahmNjHN\" style=\"display:none;\">\n",
       "<textarea rows=\"10\" cols=\"50\" onclick=\"this.select()\" readonly>\n",
       "\\begin{tabular}{|c|r|r|r|r|r|r|r|c|}\n",
       "\\hline\n",
       " & Name & Value & Hesse Error & Minos Error- & Minos Error+ & Limit- & Limit+ & Fixed?\\\\\n",
       "\\hline\n",
       "0 & N & 390.638 & 19.7651 &  &  &  &  & No\\\\\n",
       "\\hline\n",
       "1 & lamb & 7.20828 & 0.180367 &  &  &  &  & No\\\\\n",
       "\\hline\n",
       "\\end{tabular}\n",
       "</textarea>\n",
       "</pre>"
      ]
     },
     "metadata": {},
     "output_type": "display_data"
    },
    {
     "data": {
      "text/html": [
       "<hr>"
      ]
     },
     "metadata": {},
     "output_type": "display_data"
    },
    {
     "data": {
      "text/plain": [
       "({'fval': 595.3587781409869,\n",
       "  'edm': 1.5872783143146913e-06,\n",
       "  'nfcn': 48,\n",
       "  'up': 1.0,\n",
       "  'is_valid': True,\n",
       "  'has_valid_parameters': True,\n",
       "  'has_accurate_covar': True,\n",
       "  'has_posdef_covar': True,\n",
       "  'has_made_posdef_covar': False,\n",
       "  'hesse_failed': False,\n",
       "  'has_covariance': True,\n",
       "  'is_above_max_edm': False,\n",
       "  'has_reached_call_limit': False},\n",
       " [{'number': 0,\n",
       "   'name': 'N',\n",
       "   'value': 390.63786732876446,\n",
       "   'error': 19.765083164920732,\n",
       "   'is_const': False,\n",
       "   'is_fixed': False,\n",
       "   'has_limits': False,\n",
       "   'has_lower_limit': False,\n",
       "   'has_upper_limit': False,\n",
       "   'lower_limit': None,\n",
       "   'upper_limit': None},\n",
       "  {'number': 1,\n",
       "   'name': 'lamb',\n",
       "   'value': 7.208282657403142,\n",
       "   'error': 0.18036748781415804,\n",
       "   'is_const': False,\n",
       "   'is_fixed': False,\n",
       "   'has_limits': False,\n",
       "   'has_lower_limit': False,\n",
       "   'has_upper_limit': False,\n",
       "   'lower_limit': None,\n",
       "   'upper_limit': None}])"
      ]
     },
     "execution_count": 29,
     "metadata": {},
     "output_type": "execute_result"
    }
   ],
   "source": [
    "chi2_object = Chi2Regression(func_Poisson, x, y, sy)\n",
    "minuit = Minuit(chi2_object, pedantic=False, N=1000, lamb=poisson_counts.mean())\n",
    "minuit.migrad() # fit"
   ]
  },
  {
   "cell_type": "code",
   "execution_count": 30,
   "metadata": {},
   "outputs": [],
   "source": [
    "chi2_val = minuit.fval\n",
    "N_DOF = len(y) - len(minuit.args)\n",
    "chi2_prob = stats.chi2.sf(chi2_val, N_DOF)"
   ]
  },
  {
   "cell_type": "code",
   "execution_count": 33,
   "metadata": {},
   "outputs": [],
   "source": [
    "d = {'Entries'  : \"{:d}\".format(len(poisson_counts)),\n",
    "     'Mean'     : \"{:.5f}\".format(poisson_counts.mean()),\n",
    "     'STD Dev'  : \"{:.5f}\".format(poisson_counts.std(ddof=1)),\n",
    "     'Chi2/ndf' : \"{:.3f} +/- {:2d}\".format(chi2_val, N_DOF),\n",
    "     'Prob'     : \"{:.3f}\".format(chi2_prob),\n",
    "     'N'        : \"{:.2f} +/- {:.2f}\".format(minuit.values['N'], minuit.errors['N']),\n",
    "     'Lambda'   : \"{:.3f} +/- {:.3f}\".format(minuit.values['lamb'], minuit.errors['lamb'])\n",
    "    }"
   ]
  },
  {
   "cell_type": "code",
   "execution_count": 35,
   "metadata": {
    "lines_to_next_cell": 2
   },
   "outputs": [],
   "source": [
    "ax3.text(0.05, 0.95, nice_string_output(d),\n",
    "    family='monospace',\n",
    "    transform=ax3.transAxes, fontsize=9,\n",
    "    verticalalignment='top');"
   ]
  },
  {
   "cell_type": "code",
   "execution_count": 37,
   "metadata": {},
   "outputs": [
    {
     "data": {
      "image/png": "[encoded data removed]",
      "text/plain": [
       "<Figure size 576x432 with 1 Axes>"
      ]
     },
     "execution_count": 37,
     "metadata": {},
     "output_type": "execute_result"
    }
   ],
   "source": [
    "binwidth = (xmax-xmin) / Nbins \n",
    "xaxis = np.linspace(xmin, xmax, 500)\n",
    "yaxis = binwidth*func_Poisson_vec(np.floor(xaxis+0.5), *minuit.args)\n",
    "ax3.plot(xaxis, yaxis)\n",
    "fig3"
   ]
  },
  {
   "cell_type": "code",
   "execution_count": null,
   "metadata": {
    "lines_to_next_cell": 2
   },
   "outputs": [],
   "source": []
  }
 ],
 "metadata": {
  "executable": "/usr/bin/env python",
  "kernelspec": {
   "display_name": "Python 3",
   "language": "python",
   "name": "python3"
  },
  "language_info": {
   "codemirror_mode": {
    "name": "ipython",
    "version": 3
   },
   "file_extension": ".py",
   "mimetype": "text/x-python",
   "name": "python",
   "nbconvert_exporter": "python",
   "pygments_lexer": "ipython3",
   "version": "3.7.3"
  },
  "main_language": "python"
 },
 "nbformat": 4,
 "nbformat_minor": 2
}
