{
 "cells": [
  {
   "cell_type": "markdown",
   "metadata": {},
   "source": [
    "# Coffee Usage\n",
    "\n",
    "### Author: \n",
    "- Troels C. Petersen (Niels Bohr Institute)\n",
    "\n",
    "### Date:    \n",
    "- 02-12-2019 (latest update)\n",
    "\n",
    "***\n",
    "\n",
    "Python notebook for analysing the coffee usage in the NBI HEP group, and determining the length of the Christmas vacation from a fit to it.\n",
    "\n",
    "For a period in 2009-2010, the usage of the old coffey machine in the NBI HEP group was (somewhat irregularly) monitored. Below is the count of total number of cups of coffey ever brewed at given dates. We will mainly focus on the data from around Christmas...\n",
    "\n",
    "\n",
    "- 28479   4/11-2009     NOTE: This day, we in the following define as day 0! \n",
    "- 28674  13/11-2009 \n",
    "- 28777  18/11-2009 \n",
    "- 28964  25/11-2009 \n",
    "- 29041  27/11-2009 \n",
    "- 29374  10/12-2009 \n",
    "- ~29650   8/ 1-2010\n",
    "- 30001  29/ 1-2010 (?)\n",
    "- 30221   8/ 2-2010\n",
    "- 30498  21/ 2-2010\n",
    "- 32412  17/ 5-2010\n",
    "- 33676  11/ 8-2010\n",
    "- 34008   9/ 9-2010`\n",
    "\n",
    "***\n",
    "\n",
    "First, we import the modules we want to use:\n"
   ]
  },
  {
   "cell_type": "code",
   "execution_count": 1,
   "metadata": {},
   "outputs": [],
   "source": [
    "import numpy as np                                     # Matlab like syntax for linear algebra and functions\n",
    "import matplotlib.pyplot as plt                        # Plots and figures like you know them from Matlab\n",
    "import seaborn as sns                                  # Make the plots nicer to look at\n",
    "from iminuit import Minuit                             # The actual fitting tool, better than scipy's\n",
    "import sys                                             # Modules to see files and folders in directories\n",
    "from scipy import stats"
   ]
  },
  {
   "cell_type": "markdown",
   "metadata": {},
   "source": [
    "load the external functions:"
   ]
  },
  {
   "cell_type": "code",
   "execution_count": 2,
   "metadata": {},
   "outputs": [],
   "source": [
    "sys.path.append('../../../External_Functions')\n",
    "from ExternalFunctions import Chi2Regression, BinnedLH, UnbinnedLH\n",
    "from ExternalFunctions import nice_string_output, add_text_to_ax    # Useful functions to print fit results on figure"
   ]
  },
  {
   "cell_type": "markdown",
   "metadata": {},
   "source": [
    "and define the parameters of the program:"
   ]
  },
  {
   "cell_type": "code",
   "execution_count": 3,
   "metadata": {},
   "outputs": [],
   "source": [
    "save_plots = False"
   ]
  },
  {
   "cell_type": "markdown",
   "metadata": {},
   "source": [
    "## Fitting functions:\n",
    "\n",
    "First we define a simple linear function:"
   ]
  },
  {
   "cell_type": "code",
   "execution_count": 4,
   "metadata": {},
   "outputs": [],
   "source": [
    "def func_coffee_simple(x, p0, p1): \n",
    "    return p0 + p1*x"
   ]
  },
  {
   "cell_type": "markdown",
   "metadata": {},
   "source": [
    "Now YOU should add an extra parameter, which is the length of the vacation:"
   ]
  },
  {
   "cell_type": "code",
   "execution_count": 5,
   "metadata": {
    "lines_to_next_cell": 2
   },
   "outputs": [],
   "source": [
    "def func_coffee_advanced(x, p0, p1, p2):\n",
    "    \n",
    "    # Define when the vacation is (i.e. which points are before and which are after).\n",
    "    # This could in itself be a fitting parameter, but for now we keep things simple.\n",
    "    start_vacation = 40.0       # I.e. 40 days after the first date, which 4th of November\n",
    "    \n",
    "    # Before the vacation, fit with regular linear relation:\n",
    "    if (x < start_vacation):\n",
    "        return p0 + p1*x\n",
    "    \n",
    "    # During the vacation, fit with a constant value for the duration of the vacation (p2):\n",
    "    elif (start_vacation < x < start_vacation+p2):\n",
    "        return p0 + p1*start_vacation\n",
    "    \n",
    "    # After the vacation, fit with a line, subtracting the vacation length from the time:\n",
    "    else:\n",
    "        return p0 + p1*(x - p2)\n",
    "    \n",
    "# Numpy-way of \"vectorizing\" the function above:\n",
    "func_coffee_advanced_vec = np.vectorize(func_coffee_advanced)"
   ]
  },
  {
   "cell_type": "markdown",
   "metadata": {},
   "source": [
    "The reason why we are using the last line is to allow `func_coffee_advanced` to take Numpy arrays as inputs, so we do not have to loop over entire lists."
   ]
  },
  {
   "cell_type": "markdown",
   "metadata": {},
   "source": [
    "## Coffee Usage\n",
    "\n",
    "Data set (So small that we will not use a seperate file for it!). We define 4th of November 2009 to be day 0, and count from there."
   ]
  },
  {
   "cell_type": "code",
   "execution_count": 6,
   "metadata": {},
   "outputs": [
    {
     "name": "stdout",
     "output_type": "stream",
     "text": [
      "days:   0    cups: 28479\n",
      "days:   9    cups: 28674\n",
      "days:  14    cups: 28777\n",
      "days:  21    cups: 28964\n",
      "days:  23    cups: 29041\n",
      "days:  36    cups: 29374\n",
      "days:  65    cups: 29650\n",
      "days:  76    cups: 30001\n",
      "days:  86    cups: 30221\n",
      "days:  99    cups: 30498\n",
      "days: 194    cups: 32412\n",
      "days: 280    cups: 33676\n",
      "days: 309    cups: 34008\n"
     ]
    }
   ],
   "source": [
    "days = np.array([     0,     9,    14,    21,    23,    36,    65,    76,    86,    99,   194,   280,   309 ])\n",
    "cups = np.array([ 28479, 28674, 28777, 28964, 29041, 29374, 29650, 30001, 30221, 30498, 32412, 33676, 34008 ])\n",
    "edays = np.zeros_like(days)\n",
    "ecups = np.ones_like(cups)*30.0   # I estimate the uncertainty to be 30 cups, but perhaps you disagree?\n",
    "                                  # Certainly, it is NOT the square root, as it is not at all a Poisson number!\n",
    "\n",
    "# Print the number of days:\n",
    "for day, cup in zip(days, cups):\n",
    "    print(f\"days: {day:3.0f}    cups: {cup:5.0f}\")"
   ]
  },
  {
   "cell_type": "markdown",
   "metadata": {},
   "source": [
    "## Fit and plot graph on screen:"
   ]
  },
  {
   "cell_type": "code",
   "execution_count": 22,
   "metadata": {
    "lines_to_next_cell": 2
   },
   "outputs": [
    {
     "name": "stdout",
     "output_type": "stream",
     "text": [
      "\n",
      " Simple fit - Before vacation:\n",
      "   Fit value: p0 = 28453.75393 +/- 22.18782\n",
      "   Fit value: p1 = 25.11142 +/- 1.07775\n",
      "\n",
      " Simple fit - After vacation:\n",
      "   Fit value: p0 = 28086.87440 +/- 98.63581\n",
      "   Fit value: p1 = 24.60890 +/- 1.19618\n",
      "\n",
      " Simple fit - Entire range:\n",
      "   Fit value: p0 = 28593.88347 +/- 11.41145\n",
      "   Fit value: p1 = 18.19679 +/- 0.08377\n",
      " The entire range had a Chi2 probability of Prob(Chi2=221.8, Ndof=11) = 0.0000000\n"
     ]
    }
   ],
   "source": [
    "# Before vacation:\n",
    "# ----------------\n",
    "xmin1, xmax1 = -10, 50\n",
    "mask_range1 = (xmin1 < days) & (days < xmax1)\n",
    "\n",
    "# Fit the data points in the range (xmin, xmax)\n",
    "chi2_object_coffee1 = Chi2Regression(func_coffee_simple, days[mask_range1], cups[mask_range1], ecups[mask_range1])\n",
    "minuit_coffee1 = Minuit(chi2_object_coffee1, pedantic=False, p0=28000.0, p1=20.0)\n",
    "minuit_coffee1.migrad();\n",
    "p0, p1 = minuit_coffee1.args\n",
    "\n",
    "print(\"\\n Simple fit - Before vacation:\")\n",
    "for name in minuit_coffee1.parameters:\n",
    "    print(\"   Fit value: {0} = {1:.5f} +/- {2:.5f}\".format(name, minuit_coffee1.values[name], minuit_coffee1.errors[name]))\n",
    "    \n",
    "\n",
    "# After vacation:\n",
    "# ---------------\n",
    "xmin2, xmax2 = 50, 115\n",
    "mask_range2 = (xmin2 < days) & (days < xmax2)\n",
    "\n",
    "# Fit the data points in the range (xmin, xmax)\n",
    "chi2_object_coffee2 = Chi2Regression(func_coffee_simple, days[mask_range2], cups[mask_range2], ecups[mask_range2])\n",
    "minuit_coffee2 = Minuit(chi2_object_coffee2, pedantic=False, p0=28000.0, p1=20.0)\n",
    "minuit_coffee2.migrad();\n",
    "p0, p1 = minuit_coffee2.args\n",
    "\n",
    "print(\"\\n Simple fit - After vacation:\")\n",
    "for name in minuit_coffee2.parameters:\n",
    "    print(\"   Fit value: {0} = {1:.5f} +/- {2:.5f}\".format(name, minuit_coffee2.values[name], minuit_coffee2.errors[name]))\n",
    "\n",
    "\n",
    "# Entire range with data - this should give an average coffey usage (including vacations!):\n",
    "xmin3, xmax3 = -10, 320\n",
    "mask_range3 = (xmin3 < days) & (days < xmax3)\n",
    "\n",
    "# Fit the data points in the range (xmin, xmax)\n",
    "chi2_object_coffee3 = Chi2Regression(func_coffee_simple, days[mask_range3], cups[mask_range3], ecups[mask_range3])\n",
    "minuit_coffee3 = Minuit(chi2_object_coffee3, pedantic=False, p0=28000.0, p1=20.0)\n",
    "minuit_coffee3.migrad();\n",
    "p0, p1 = minuit_coffee3.args\n",
    "\n",
    "print(\"\\n Simple fit - Entire range:\")\n",
    "for name in minuit_coffee3.parameters:\n",
    "    print(\"   Fit value: {0} = {1:.5f} +/- {2:.5f}\".format(name, minuit_coffee3.values[name], minuit_coffee3.errors[name]))\n",
    "    \n",
    "chi2_all = minuit_coffee3.fval\n",
    "ndof_all = len(days[mask_range3]) - len(minuit_coffee3.args)\n",
    "prob_all = stats.chi2.sf(chi2_all, ndof_all)\n",
    "print(f\" The entire range had a Chi2 probability of Prob(Chi2={chi2_all:5.1f}, Ndof={ndof_all:2d}) = {prob_all:9.7f}\")"
   ]
  },
  {
   "cell_type": "markdown",
   "metadata": {},
   "source": [
    "Plot the data along with the fit on top of the data:"
   ]
  },
  {
   "cell_type": "code",
   "execution_count": 8,
   "metadata": {},
   "outputs": [
    {
     "data": {
      "image/png": "[encoded data removed]",
      "text/plain": [
       "<Figure size 1080x576 with 1 Axes>"
      ]
     },
     "metadata": {
      "needs_background": "light"
     },
     "output_type": "display_data"
    }
   ],
   "source": [
    "# Plot the data:\n",
    "fig, ax = plt.subplots(figsize=(15, 8))\n",
    "ax.errorbar(days, cups, xerr=edays, yerr=ecups, fmt='o', label='Data')\n",
    "ax.set(xlim=(-20, 400), xlabel='Days', ylabel='Cups', title='Coffe usage as function of time')\n",
    "\n",
    "# Plot the two fits on top:\n",
    "x_fit1 = np.linspace(xmin1, xmax1, 1000)\n",
    "y_fit1 = func_coffee_simple(x_fit1, *minuit_coffee1.args)\n",
    "ax.plot(x_fit1, y_fit1, '-', label='Simple Fit')\n",
    "\n",
    "x_fit2 = np.linspace(xmin2, xmax2, 1000)\n",
    "y_fit2 = func_coffee_simple(x_fit2, *minuit_coffee2.args)\n",
    "ax.plot(x_fit2, y_fit2, '-', label='Simple Fit')\n",
    "\n",
    "# Get the ChiSquare probability (for before Xmas vacation):\n",
    "chi2_lin = minuit_coffee1.fval\n",
    "ndof_lin = len(days[mask_range1]) - len(minuit_coffee1.args)\n",
    "chi2_prob_lin = stats.chi2.sf(chi2_lin, ndof_lin)\n",
    "\n",
    "# Include fit results in the plot:\n",
    "d = {'Chi2': chi2_lin,\n",
    "     'Ndof': ndof_lin,\n",
    "     'Prob': chi2_prob_lin,\n",
    "     'p0': [minuit_coffee1.values['p0'], minuit_coffee1.errors['p0']],\n",
    "     'p1': [minuit_coffee1.values['p1'], minuit_coffee1.errors['p1']],\n",
    "    }\n",
    "\n",
    "text = nice_string_output(d, extra_spacing=2, decimals=2)\n",
    "add_text_to_ax(0.02, 0.97, text, ax, fontsize=14);"
   ]
  },
  {
   "cell_type": "markdown",
   "metadata": {},
   "source": [
    "## Advanced fit:\n",
    "Try to fit the advanced function in the range (-10, 110):"
   ]
  },
  {
   "cell_type": "code",
   "execution_count": 9,
   "metadata": {},
   "outputs": [
    {
     "name": "stdout",
     "output_type": "stream",
     "text": [
      "Advanced fit\n",
      "Fit value: p0 = 28457.62137 +/- 18.41002\n",
      "Fit value: p1 = 24.88613 +/- 0.80069\n",
      "Fit value: p2 = 15.80558 +/- 1.74450\n"
     ]
    }
   ],
   "source": [
    "xmin, xmax = -5, 110\n",
    "mask_range = (xmin < days) & (days < xmax)\n",
    "\n",
    "# fit the data points in the range (xmin, xmax)\n",
    "chi2_object_coffee = Chi2Regression(func_coffee_advanced, days[mask_range], cups[mask_range], ecups[mask_range])\n",
    "minuit_coffee = Minuit(chi2_object_coffee, pedantic=False, p0=28500, p1=25, p2=14.0)\n",
    "minuit_coffee.migrad();\n",
    "\n",
    "p0, p1, p2 = minuit_coffee.args\n",
    "print(\"Advanced fit\")\n",
    "for name in minuit_coffee.parameters:\n",
    "    print(\"Fit value: {0} = {1:.5f} +/- {2:.5f}\".format(name, minuit_coffee.values[name], minuit_coffee.errors[name]))"
   ]
  },
  {
   "cell_type": "markdown",
   "metadata": {},
   "source": [
    "and plot the advanced fit:"
   ]
  },
  {
   "cell_type": "code",
   "execution_count": 10,
   "metadata": {},
   "outputs": [
    {
     "data": {
      "image/png": "[encoded data removed]",
      "text/plain": [
       "<Figure size 1080x576 with 1 Axes>"
      ]
     },
     "execution_count": 10,
     "metadata": {},
     "output_type": "execute_result"
    }
   ],
   "source": [
    "x_fit = np.linspace(xmin, xmax, 1000)\n",
    "y_fit = func_coffee_advanced_vec(x_fit, *minuit_coffee.args)\n",
    "ax.plot(x_fit, y_fit, '-', label='Advanced Fit')\n",
    "fig"
   ]
  },
  {
   "cell_type": "code",
   "execution_count": 15,
   "metadata": {},
   "outputs": [
    {
     "name": "stdout",
     "output_type": "stream",
     "text": [
      "\n",
      "The quality of the fit was: Prob(chi2= 7.1, Ndof= 7) = 0.416\n",
      "\n",
      "The fitted effective vacation length was: 15.8 +- 1.7 days!\n"
     ]
    }
   ],
   "source": [
    "chi2_adv = minuit_coffee.fval\n",
    "ndof_adv = len(days[mask_range]) - len(minuit_coffee.args)\n",
    "chi2_prob_adv = stats.chi2.sf(chi2_adv, ndof_adv)\n",
    "print(f\"\\nThe quality of the fit was: Prob(chi2={chi2_adv:4.1f}, Ndof={ndof_adv:2d}) = {chi2_prob_adv:5.3f}\")\n",
    "\n",
    "Lvac = minuit_coffee.values['p2']\n",
    "eLvac = minuit_coffee.errors['p2']\n",
    "print(f\"\\nThe fitted effective vacation length was: {Lvac:4.1f} +- {eLvac:3.1f} days!\")"
   ]
  },
  {
   "cell_type": "markdown",
   "metadata": {},
   "source": [
    "# Questions:\n",
    "\n",
    "1. Assuming the error of 30 cups, do the numbers follow the hypothesis of constant use? Quantify this, and find out how large the error has to be, for this hypothesis to be credible.\n",
    "\n",
    "_Example solution 1_: With a linear fit of the entire range one gets a Chi2 of 222 with 11 dof., which must be rejected. The uncertainties would have to increase by a factor of about $\\sqrt(222/11) = 4.5$ to be reasonable.\n",
    "However, for the short periods before and after the Christmas vacation, the uncertainties seem reasonable.\n",
    "\n",
    "\n",
    "2. Consider only the data from the first 100 days(*). Does taking into account Christmas vacations improve the above hypothesis? Can you actually fit the length of vacation? Try to rewrite the function \"func_coffee\", such that it includes an \"if\", dividing the function into two linear functions with the same slope, that has an interval with no usage (i.e. the Christmas vacation).\n",
    "\n",
    "_Example solution 2_: The (advanced) fitting function has the length of the Christmas vacation put into it as a parameter. Notice how this requires \"if\"-statements, effectively dividing the range up into parts, just like they are typically written in math. And this in turn requires the \"np.vectorize\" of the function, if one wants to pass an array to the function (Minuit wantes that!). The fit not only converges with a nice ChiSquare, but it also gives a \"realistic\" estimate of the vacation with a reasonable uncertainty.\n",
    "\n",
    "\n",
    "3. The total number of cups of coffey ever brewed was 36716, after which the old coffey machine was decommissioned. From the above data, estimate when this happened (including error!). And when would you estimate that the coffey machine was commissioned originally?\n",
    "\n",
    "_Example solution 3_: If the number of cups brewed by \"day 0\" (4/11-2009) was 28479, and the overall slope was 18.2 cups/day, then the estimated number of days would be $(36716-28479) / 18.2 = 453$ days, which gives the estimated date (04/11-2010 + 118 days) 2/03-2011. That is incredibly (luckily?) close to the true date (15/03-2011).\n",
    "\n",
    "Similarly, the commissioning date would be 28479 / 18.2 = 1565 days before \"day 0\", thus yielding the estimated date \n",
    "(04/11-2005 - 104 days), (04/07-2005 + 18 days) 22/07-2005, i.e. in the middle of July 2005. This is even more lucky than before, since the extrapolation is much longer!\n",
    "\n",
    "\n",
    "In the history of extrapolation, this might constitute one of the single most \"miraculous\" cases! Don't trust extrapolation to this precision ever.\n",
    "\n",
    "\n",
    "\n",
    "(*) You can do this, by defining the function range to be 0-100!\n",
    "\n",
    "***\n",
    "\n",
    "## Key questions:\n",
    "\n",
    "- What is the probability that the first 50 days follow a constant usage, assuming the uncertainty of 30 days to be correct?\n",
    "- How long did you estimate the Christmas vacation to be (including uncertainty)?\n",
    "- When was the machine commissioned and decommissioned (including uncertainty)?"
   ]
  },
  {
   "cell_type": "markdown",
   "metadata": {},
   "source": [
    "The original commissioning of the machine was around July 2005 with an uncertainty of around 1 month (source: Esben Klinkby). The new machine commissioning (and thus decommissioning of the old one) was on the 15th of March 2011."
   ]
  },
  {
   "cell_type": "code",
   "execution_count": null,
   "metadata": {},
   "outputs": [],
   "source": []
  }
 ],
 "metadata": {
  "executable": "/usr/bin/env python",
  "kernelspec": {
   "display_name": "Python 3",
   "language": "python",
   "name": "python3"
  },
  "language_info": {
   "codemirror_mode": {
    "name": "ipython",
    "version": 3
   },
   "file_extension": ".py",
   "mimetype": "text/x-python",
   "name": "python",
   "nbconvert_exporter": "python",
   "pygments_lexer": "ipython3",
   "version": "3.7.3"
  },
  "main_language": "python"
 },
 "nbformat": 4,
 "nbformat_minor": 2
}
