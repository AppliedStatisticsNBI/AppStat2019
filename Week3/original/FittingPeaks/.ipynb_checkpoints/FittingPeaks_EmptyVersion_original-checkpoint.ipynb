{
 "cells": [
  {
   "cell_type": "markdown",
   "metadata": {},
   "source": [
    "# Fitting is an Art!\n",
    "\n",
    "## Description\n",
    "Python macro for fitting (possible) peaks (typically signal) on top of a distribution (typically background). It is also an exercise in making ChiSquare and likelihood fits work, and get a feel for which fitting proceedure is likely to give good results.\n",
    "\n",
    "This program __does not__ contains the necessary code for fitting - you have to write it yourself. The case has been chosen carefully, and should illustrate several points. Please, _play around_ with it as much as you can.\n",
    "\n",
    "\n",
    "## Your Task\n",
    "\n",
    "This exercise is meant to improve your understanding of but also your experience with\n",
    "ChiSquare and Likelihood fits. The below are indicative questions, but you should\n",
    "also \"play around\" yourself to see, if you understand how the three behave, when you\n",
    "change conditions.\n",
    "\n",
    "\n",
    "### Authors\n",
    "- Troels Petersen ([email](mailto:petersen@nbi.dk))\n",
    "- Étienne Bourbeau (notebook conversion) ([email](mailto:etienne.bourbeau@icecube.wisc.edu))\n",
    "\n",
    "\n",
    "### Date\n",
    "1st of December 2019\n",
    "\n",
    "---"
   ]
  },
  {
   "cell_type": "markdown",
   "metadata": {},
   "source": [
    "Let's load some libraries..."
   ]
  },
  {
   "cell_type": "code",
   "execution_count": 1,
   "metadata": {},
   "outputs": [],
   "source": [
    "import numpy as np\n",
    "import matplotlib.pyplot as plt\n",
    "from iminuit import Minuit\n",
    "from scipy import stats\n",
    "import os, sys                                         # Modules to see files and folders in directories\n",
    "from os.path import dirname as parent_folder\n",
    "# plt.close('all')"
   ]
  },
  {
   "cell_type": "code",
   "execution_count": 2,
   "metadata": {},
   "outputs": [],
   "source": [
    "sys.path.append('../../../External_Functions')\n",
    "from ExternalFunctions import Chi2Regression, BinnedLH, UnbinnedLH\n",
    "from ExternalFunctions import nice_string_output, add_text_to_ax    # Useful functions to print fit results on figure"
   ]
  },
  {
   "cell_type": "markdown",
   "metadata": {},
   "source": [
    "Ignore LogWarning (Python may complain, if it takes the log of too small numbers, e.g. log-likelihood):"
   ]
  },
  {
   "cell_type": "code",
   "execution_count": 3,
   "metadata": {},
   "outputs": [],
   "source": [
    "import warnings\n",
    "warnings.filterwarnings(\"ignore\")"
   ]
  },
  {
   "cell_type": "code",
   "execution_count": 4,
   "metadata": {},
   "outputs": [],
   "source": [
    "r = np.random             # Random generator\n",
    "r.seed(42)                # Set a random (but fixed) seed\n",
    "\n",
    "font_size = 10"
   ]
  },
  {
   "cell_type": "code",
   "execution_count": 5,
   "metadata": {},
   "outputs": [],
   "source": [
    "Verbose = False\n",
    "Saveplots = False"
   ]
  },
  {
   "cell_type": "markdown",
   "metadata": {},
   "source": [
    "These are switches to decide, if signal should be included in the data, and also fitted for:"
   ]
  },
  {
   "cell_type": "code",
   "execution_count": 6,
   "metadata": {},
   "outputs": [],
   "source": [
    "IncludeSignalInData = False\n",
    "IncludeSignalInFit = False"
   ]
  },
  {
   "cell_type": "markdown",
   "metadata": {},
   "source": [
    "One may want to assert, that one is not fitting for a signal, that is not there!\n",
    "\n",
    "However, in reality this is often what we actually do, to assert what the largest deviation from background is.\n",
    "\n",
    "This type of \"bump hunting\" can be challeging, and very common in many sciences."
   ]
  },
  {
   "cell_type": "code",
   "execution_count": 7,
   "metadata": {
    "lines_to_next_cell": 2
   },
   "outputs": [],
   "source": [
    "# assert not ((IncludeSignalInData == False) and (IncludeSignalInFit == True))"
   ]
  },
  {
   "cell_type": "markdown",
   "metadata": {},
   "source": [
    "---\n",
    "## CASE: Gaussian distribution on an exponential background:\n",
    " * $signal(x) = \\frac{N_{sig}}{\\sigma \\sqrt{2\\pi}} \\cdot \\exp{\\left [-0.5 \\cdot (\\frac{x-\\mu}{\\sigma})^{2}\\right]}$ for $x$ in [0,200]\n",
    " \n",
    " * $bkg(x) = N_{bkg} \\cdot  c \\cdot \\exp{[-cx]}$                   for $x$ in [0,200]\n",
    "---"
   ]
  },
  {
   "cell_type": "code",
   "execution_count": 9,
   "metadata": {},
   "outputs": [],
   "source": [
    "if IncludeSignalInData:\n",
    "    # Produce signal (Gaussian peak):\n",
    "    Nsigx  =  50\n",
    "    mux    = 125.0\n",
    "    # mux    = r.uniform(10.0, 190.0)    # For signal peak of unknown position\n",
    "    mux_init = mux                       # Initial value to use for the peak position in fit\n",
    "    sigmax =   3.0                       # This is normally not really known either!\n",
    "    x_signal = r.normal(mux, sigmax, Nsigx)\n",
    "    if (Verbose) :\n",
    "        print(\"  Signal: \", x_signal)\n",
    "else:\n",
    "    x_signal = []"
   ]
  },
  {
   "cell_type": "code",
   "execution_count": 10,
   "metadata": {},
   "outputs": [],
   "source": [
    "# Produce background (here exponential):\n",
    "Nbkgx =  25000\n",
    "taux  =   80.0    # \"Lifetime\" of background\n",
    "x_background = r.exponential(taux, Nbkgx)\n",
    "if (Verbose) :\n",
    "    print(\"  Background: \", x_background)"
   ]
  },
  {
   "cell_type": "code",
   "execution_count": 11,
   "metadata": {},
   "outputs": [],
   "source": [
    "# Histogram specifications:\n",
    "xmin =   0.0\n",
    "xmax = 200.0\n",
    "Nbins =  100       # Note that this gives the bins a natural width, and is smaller than sigma of the signal!\n",
    "binwidth = (xmax-xmin) / Nbins"
   ]
  },
  {
   "cell_type": "code",
   "execution_count": 12,
   "metadata": {
    "lines_to_next_cell": 2
   },
   "outputs": [],
   "source": [
    "# Note: The x_signal and x_background needs to be in a parenthesis inside the other\n",
    "# parenthesis, because of the posibility of several other options.\n",
    "x_data = np.concatenate((x_signal, x_background))    # Combine the two numpy arrays\n",
    "if (Verbose) :\n",
    "    print(\"  Data: \", x_data)"
   ]
  },
  {
   "cell_type": "markdown",
   "metadata": {},
   "source": [
    "---\n",
    "Define PDFs:\n",
    "---"
   ]
  },
  {
   "cell_type": "code",
   "execution_count": 13,
   "metadata": {},
   "outputs": [],
   "source": [
    "# Normalized Gaussian:\n",
    "def gauss_pdf(x, mu, sigma):\n",
    "    # return np.exp(-(x - mu)**2 / 2.0 / sigma**2)\n",
    "    return 1.0 / np.sqrt(2 * np.pi) / np.abs(sigma) * np.exp(-(x - mu)**2 / 2.0 / sigma**2)"
   ]
  },
  {
   "cell_type": "code",
   "execution_count": 14,
   "metadata": {},
   "outputs": [],
   "source": [
    "# Normalized Exponential:\n",
    "def exponential_pdf(x, tau):\n",
    "    # return np.exp(-x/tau)\n",
    "    return 1.0 / tau * np.exp(-x/tau)"
   ]
  },
  {
   "cell_type": "markdown",
   "metadata": {},
   "source": [
    "Next we write up the full model PDF (one for ChiSquare [CS], one for Binned Likelihood [BL], and\n",
    "one for unbinned likelihood [UL]). They are identical, except for the normalisation, where the ChiSquare includes the bin width.\n",
    "\n",
    "We make two versions, one which is a background fit only, and the other which includes the signal PDF in the fit function."
   ]
  },
  {
   "cell_type": "code",
   "execution_count": 15,
   "metadata": {},
   "outputs": [],
   "source": [
    "if IncludeSignalInFit:\n",
    "    def PDFmodel_CS(x, Nsig, mu, sigma, Nbkg, tau) :\n",
    "        return Nbkg * binwidth * exponential_pdf(x, tau) + Nsig * binwidth * gauss_pdf(x, mu, sigma)\n",
    "        \n",
    "    #def PDFmodel_BL(x, Nsig, mu, sigma, Nbkg, tau) :\n",
    "    #    return ???\n",
    "    \n",
    "    #def PDFmodel_UL(x, Nsig, mu, sigma, Nbkg, tau) :\n",
    "    #    return ???\n",
    "    \n",
    "else:\n",
    "    def PDFmodel_CS(x, Nbkg, tau) :\n",
    "        return Nbkg * binwidth * exponential_pdf(x, tau) \n",
    "        \n",
    "    #def PDFmodel_BL(x, Nbkg, tau) :\n",
    "    #    return ???\n",
    "    \n",
    "    #def PDFmodel_UL(x, Nbkg, tau) :\n",
    "    #    return ???\n",
    "    "
   ]
  },
  {
   "cell_type": "markdown",
   "metadata": {},
   "source": [
    "---\n",
    "Plot the data:\n",
    "---\n",
    "\n",
    "The data from the histogram is here plotted with error bars:"
   ]
  },
  {
   "cell_type": "code",
   "execution_count": 16,
   "metadata": {},
   "outputs": [
    {
     "data": {
      "text/plain": [
       "[Text(0, 0.5, 'Frequency / 2 GeV'),\n",
       " (0.0, 200.0),\n",
       " Text(0.5, 0, 'Photon invariant mass [GeV]'),\n",
       " Text(0.5, 1.0, 'Distribution of diphoton invariant masses')]"
      ]
     },
     "execution_count": 16,
     "metadata": {},
     "output_type": "execute_result"
    },
    {
     "data": {
      "image/png": "[encoded data removed]",
      "text/plain": [
       "<Figure size 1080x432 with 1 Axes>"
      ]
     },
     "metadata": {
      "needs_background": "light"
     },
     "output_type": "display_data"
    }
   ],
   "source": [
    "fig, ax = plt.subplots(figsize=(15, 6))\n",
    "# For a normal histogram (without error bars) one would use:\n",
    "# hist_data = ax.hist(x_data, bins=Nbins, range=(xmin, xmax), histtype='step', linewidth=2, label='Data', color='blue')\n",
    "y, bin_edges = np.histogram(x_data, bins=Nbins, range=(xmin, xmax), normed=False)\n",
    "x = 0.5*(bin_edges[1:] + bin_edges[:-1])\n",
    "sy = np.sqrt(y)      # This is the standard for histograms - each bin is Poisson distributed!\n",
    "hist_data = ax.errorbar(x, y, sy, fmt='.', linewidth=2, label=\"Data\")\n",
    "ax.set(xlabel=\"Photon invariant mass [GeV]\", ylabel = \"Frequency / {0:1.0f} GeV\".format(binwidth),\n",
    "       title = \"Distribution of diphoton invariant masses\", xlim=(xmin, xmax))"
   ]
  },
  {
   "cell_type": "markdown",
   "metadata": {},
   "source": [
    "---\n",
    "Fit the data:\n",
    "---"
   ]
  },
  {
   "cell_type": "markdown",
   "metadata": {},
   "source": [
    "NOTE, that for the starting values for the fit, we here (to begin with) use the values that the data was generated with!\n",
    "That is of course a great advantage, and one of the main challenges in general fitting is to find these good starting values."
   ]
  },
  {
   "cell_type": "markdown",
   "metadata": {},
   "source": [
    "## $\\chi^{2}$ fit:\n",
    "Do the fit with a Chi2 minimisation (only using bins with entries):"
   ]
  },
  {
   "cell_type": "markdown",
   "metadata": {},
   "source": [
    "Questions:\n",
    "---\n",
    " 0. Given the data (first without signal), see if you can write a ChiSquare fit to match it.\n",
    "    Remember to give the fit good starting values. Alternatively, consider the ChiSquare fit\n",
    "    that is provided.\n",
    "    Can you also write an unbinned likelihood fit? Remember, that contrary to the ChiSquare fit,\n",
    "    this should not include the binwidth in the normalisation of the PDF. And if you feel on top\n",
    "    of things, then perhaps a binned one?\n",
    "\n",
    " 1. Run the program without a signal peak and high statistics. Are the two/three fit\n",
    "    results similar, and was that what you would expect? And are the models good?\n",
    "\n",
    " 2. Now lower the number of background events from 25000 to 500 and ask yourself the above\n",
    "    questions. Also, think about how you _quantify_ if the models are good.\n",
    "\n",
    " 3. Switch on the signal of 50 events, both in the data and in the fit(s). How confident are\n",
    "    you, that you can see the signal in the data? Lower the number of signal events, until the\n",
    "    point where you are no longer certain, that you can see a peak by eye. Then consider the\n",
    "    significance (i.e. the number of sigma's) of Nsig. Does the size of this correspond well\n",
    "    with your observation?\n",
    "\n",
    " 4. Try to set the number of signal events to 20, but choose a random location of the signal\n",
    "    peak (mux) and set the initial value to say 125, i.e. pretending that you don't know, if or\n",
    "    where there is a peak.\n",
    "    See if the fit can find the position of the signal peak and hence converge correctly.\n",
    "\n",
    " 5. Also try to remove the signal from data, and see if the fit (including signal) still \"finds\"\n",
    "    any peaks. This is the pitfall of searching for peaks, that may very well not be there!!!\n",
    "\n",
    " 6. Given 500 background and 20 signal events, ask yourself what helps the most to discover\n",
    "    a signal peak:\n",
    "     - Removing half the background below the peak.\n",
    "     - Improving the resolution (sigma) by a factor two.\n",
    "     \n",
    "    Discuss first what you think (and why) with those around you, and then try it out with this fit.\n",
    "\n",
    "Advanced questions:\n",
    "---\n",
    " 0. In general, how far can the initial parameter values stray from the true ones,\n",
    "    and still find the correct signal peak and hence true minimum of the Chi2/LLH?\n",
    "    Note here, that also the width and the normalisation are generally unknown in real data!\n",
    "\n",
    " 1. Make a loop to repeat the fits many times, and see how the result of the\n",
    "    fit compares to the true values. Which fit is least biased? And does this depend\n",
    "    on the value of the input parameters?\n",
    "\n",
    " 2. The likelihood value does not in itself tell you much. But if repeated many times\n",
    "    (as above) it can be used to evaluate the fit at hand. Try to produce new data and\n",
    "    fit it 1000 times, and see the distribution of likelihood values obtained... and\n",
    "    then compare the \"original data LLH value\" with this distribution! From this, one\n",
    "    can actually obtain a probability for the LLH in the same way as for the ChiSquare.\n"
   ]
  }
 ],
 "metadata": {
  "executable": "/usr/bin/env python",
  "kernelspec": {
   "display_name": "Python 3",
   "language": "python",
   "name": "python3"
  },
  "language_info": {
   "codemirror_mode": {
    "name": "ipython",
    "version": 3
   },
   "file_extension": ".py",
   "mimetype": "text/x-python",
   "name": "python",
   "nbconvert_exporter": "python",
   "pygments_lexer": "ipython3",
   "version": "3.7.3"
  },
  "main_language": "python"
 },
 "nbformat": 4,
 "nbformat_minor": 2
}
