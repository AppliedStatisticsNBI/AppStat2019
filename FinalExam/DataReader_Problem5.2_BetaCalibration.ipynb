{
 "cells": [
  {
   "cell_type": "markdown",
   "metadata": {},
   "source": [
    "### Script for reading data for problem 5.2 (data_BetaCalibration.txt) in Applied Statistics 2019 exam:\n",
    "\n",
    "This script reads the file __\"data_BetaCalibration.txt\"__ for problem 5.2 in the exam of Applied Statistics 2019/20. This data files contains 4000 entries in four column, where the four numbers are the initial speed estimate (beta_init), the angle with respect to the beam axis (theta in radians), the energy deposited in the calorimeters (E in GeV), and the time recording the data since the start of the experiment (T in seconds), respectively. The script was distributed along with the exam and the data file itself on the 15th of January 2020.\n",
    "\n",
    "####  Author: \n",
    "- Troels Petersen (Niels Bohr Institute, petersen@nbi.dk)\n",
    "\n",
    "####  Date:   \n",
    " - 14th of January 2020 (first version)"
   ]
  },
  {
   "cell_type": "code",
   "execution_count": null,
   "metadata": {},
   "outputs": [],
   "source": [
    "import numpy as np"
   ]
  },
  {
   "cell_type": "code",
   "execution_count": null,
   "metadata": {},
   "outputs": [],
   "source": [
    "beta_init, theta, E, T = np.loadtxt('data_BetaCalibration.txt', unpack=True)"
   ]
  },
  {
   "cell_type": "markdown",
   "metadata": {},
   "source": [
    "Print the first 10 entries to check the content of the file:"
   ]
  },
  {
   "cell_type": "code",
   "execution_count": null,
   "metadata": {},
   "outputs": [],
   "source": [
    "for i in range(10) :\n",
    "    print(f\"  beta_init = {beta_init[i]:6.4f}    theta = {theta[i]:6.4f} rad     Energy = {E[i]:6.3f}     Time = {T[i]:5.1f}\")"
   ]
  }
 ],
 "metadata": {
  "executable": "/usr/bin/env python",
  "kernelspec": {
   "display_name": "Python 3",
   "language": "python",
   "name": "python3"
  },
  "language_info": {
   "codemirror_mode": {
    "name": "ipython",
    "version": 3
   },
   "file_extension": ".py",
   "mimetype": "text/x-python",
   "name": "python",
   "nbconvert_exporter": "python",
   "pygments_lexer": "ipython3",
   "version": "3.7.3"
  },
  "main_language": "python"
 },
 "nbformat": 4,
 "nbformat_minor": 2
}
