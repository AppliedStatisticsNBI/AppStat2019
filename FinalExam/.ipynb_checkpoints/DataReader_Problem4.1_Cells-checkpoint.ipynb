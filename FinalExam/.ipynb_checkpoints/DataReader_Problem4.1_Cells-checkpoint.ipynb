{
 "cells": [
  {
   "cell_type": "markdown",
   "metadata": {},
   "source": [
    "### Script for reading data for problem 4.1 (data_Cells.txt) in Applied Statistics 2019 exam:\n",
    "\n",
    "This script reads the file __\"data_Cells.txt\"__ for problem 4.1 in the exam of Applied Statistics 2019/20. This data files contains 4690 entries in three column, where the three numbers are the cell label (0 for P cell, 1 for E cell), the cell size (in micro meters), and the cell transparency. The script was distributed along with the exam and the data file itself on the 15th of January 2020.\n",
    "\n",
    "####  Author: \n",
    "- Troels Petersen (Niels Bohr Institute, petersen@nbi.dk)\n",
    "\n",
    "####  Date:   \n",
    " - 14th of January 2020 (first version)"
   ]
  },
  {
   "cell_type": "code",
   "execution_count": null,
   "metadata": {},
   "outputs": [],
   "source": [
    "import numpy as np"
   ]
  },
  {
   "cell_type": "code",
   "execution_count": null,
   "metadata": {},
   "outputs": [],
   "source": [
    "celltype, size, transp = np.loadtxt('data_Cells.txt', unpack=True)"
   ]
  },
  {
   "cell_type": "markdown",
   "metadata": {},
   "source": [
    "Print the first 10 entries to check the content of the file:"
   ]
  },
  {
   "cell_type": "code",
   "execution_count": null,
   "metadata": {},
   "outputs": [],
   "source": [
    "for i in range(10) :\n",
    "    print(f\"  Cell type (0:P, 1:E) = {int(celltype[i]):1d}     Size = {size[i]:6.4f} mu m     Transparency = {transp[i]:6.4f}\")"
   ]
  }
 ],
 "metadata": {
  "executable": "/usr/bin/env python",
  "kernelspec": {
   "display_name": "Python 3",
   "language": "python",
   "name": "python3"
  },
  "language_info": {
   "codemirror_mode": {
    "name": "ipython",
    "version": 3
   },
   "file_extension": ".py",
   "mimetype": "text/x-python",
   "name": "python",
   "nbconvert_exporter": "python",
   "pygments_lexer": "ipython3",
   "version": "3.7.3"
  },
  "main_language": "python"
 },
 "nbformat": 4,
 "nbformat_minor": 2
}
